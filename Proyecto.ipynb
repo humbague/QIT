{
 "cells": [
  {
   "cell_type": "markdown",
   "metadata": {},
   "source": [
    "En esta primera sección, se seguirá la discusión del artículo \"From the Phenomenology to the Mechanisms of\n",
    "Consciousness: Integrated Information Theory 3.0\"."
   ]
  },
  {
   "cell_type": "markdown",
   "metadata": {},
   "source": [
    "# Figura 1\n",
    "Se genera la red de la figura 1 y su matriz de transición. Para esto, primero creamos una matriz de conectividades en la que se defina también el tipo de conexión, es decir, $M_{12}$=x quiere decir que el elemento 1 está conectado con el elemento 2 por la relación x. A continuación se enlistan las relaciones:\n",
    "\n",
    "\n",
    "0: No hay conexión\n",
    "\n",
    "1: and\n",
    "\n",
    "2: or\n",
    "\n",
    "3: xor\n",
    "\n",
    "4:copy"
   ]
  },
  {
   "cell_type": "code",
   "execution_count": 1,
   "metadata": {
    "collapsed": false
   },
   "outputs": [
    {
     "name": "stdout",
     "output_type": "stream",
     "text": [
      "A = estados[:,3] = [0,1,0,0,1,0]\n"
     ]
    },
    {
     "data": {
      "text/plain": [
       "8×8 Array{Int64,2}:\n",
       " 1  0  0  0  0  0  0  0\n",
       " 0  0  0  0  1  0  0  0\n",
       " 0  0  0  0  0  1  0  0\n",
       " 0  0  0  0  0  1  0  0\n",
       " 0  1  0  0  0  0  0  0\n",
       " 0  0  0  0  0  0  0  1\n",
       " 0  0  0  0  1  0  0  0\n",
       " 0  0  0  0  0  0  1  0"
      ]
     },
     "execution_count": 1,
     "metadata": {},
     "output_type": "execute_result"
    }
   ],
   "source": [
    "Mcon=[0 2 2 2 0 0 ; 1 0 1 0 0 0 ; 3 3 0 0 0 0; 0 0 0 0 0 0 ; 0 4 0 0 0 0 ; 0 0 0 0 0 0 ]; #Genera la matriz de conectividad\n",
    "Cand=[1, 2, 3]; #Define los elementos candidatos.\n",
    "\n",
    "#genera el vector de estados de los elementos no candidatos a partir de un vector que los contiene\n",
    "#SIN TOMAR EN CUENTA LOS ESTADOS CANDIDATO\n",
    "function bgdstate(ele::Int64,Cand::Array{Int64,1},states::Array{Int64,1})\n",
    "    x=collect(1:1:ele)\n",
    "    allstates=zeros(Int64,ele)\n",
    "    deleteat!(x,Cand)\n",
    "    for i in 1:size(x)[1]\n",
    "        allstates[x[i]]=states[i]\n",
    "    end\n",
    "    return allstates\n",
    "end\n",
    "\n",
    "\n",
    "#genera una matriz con todos los estados posibles, teniendo en cuenta los estados de fondo\n",
    "function allstate(ele::Int64,Cand::Array{Int64,1},states::Array{Int64,1})\n",
    "    bgd=bgdstate(ele,Cand,states)\n",
    "    n=size(Cand)[1]\n",
    "    x=zeros(Int64,ele,2^n)\n",
    "    y=zeros(Int64,ele)\n",
    "    for i in 1:2^n\n",
    "        for j in 0:n-1\n",
    "            y[Cand[n-j]]=parse(Int64,bits(i-1)[64-j])\n",
    "        end\n",
    "        x[:,i]+=bgd+y\n",
    "    end\n",
    "    return x\n",
    "end\n",
    "\n",
    "\n",
    "\n",
    "#Da el resultado de aplicar un operador lógico a una serie de enteros\n",
    "function logicoperator(cod::Int64, A::Array{Int64,1})\n",
    "        if cod==1\n",
    "        t0=A[1] & A[2]\n",
    "        for i in 1:length(A)-2\n",
    "            t0=t0 & A[i+2]\n",
    "        end\n",
    "        elseif cod==2\n",
    "        t0=A[1] | A[2]\n",
    "        for i in 1:length(A)-2\n",
    "            t0=t0 | A[i+2]\n",
    "        end\n",
    "        elseif cod==3\n",
    "        t0=A[1] $ A[2]\n",
    "        for i in 1:length(A)-2\n",
    "            t0=t0 $ A[i+2]\n",
    "        end\n",
    "        elseif cod==4\n",
    "        t0=A[1]\n",
    "        else println(error)\n",
    "    end\n",
    "    return t0\n",
    "end\n",
    "\n",
    "#Da un paso en el tiempo según el estado y la matriz de conectividad\n",
    "function timestep(Mcon::Array{Int64,2},state::Array{Int64,1})\n",
    "    n=length(state)\n",
    "    x=copy(state) #Matriz que guardará el estado nuevo\n",
    "    for i in 1:n\n",
    "        y=Mcon[i,:]\n",
    "        if sum(y)!=0\n",
    "            z=find(y.!=0); #Posiciones de ye para entradas no-cero\n",
    "            cod=y[z[1]];\n",
    "            A=state[z];#elementos a los cuales se aplicará el operador lógico\n",
    "            x[i]=logicoperator(cod,A)\n",
    "        end\n",
    "    end\n",
    "    return x\n",
    "end\n",
    "\n",
    "#Genera la matriz de transición. Los vectores y columnas se etiqutarán según el número binario que representen\n",
    "function transition(Mcon::Array{Int64,2},Cand::Array{Int64,1},bgdstate::Array{Int64,1})\n",
    "    ele=size(Mcon)[1]\n",
    "    L=2^(length(Cand)[1])\n",
    "    M=zeros(Int64,L,L)\n",
    "    states=allstate(ele,Cand,bgdstate)\n",
    "    for i in 1:L\n",
    "        y=timestep(Mcon,states[:,i])[Cand];#vector del estado final en los elementos candidatos\n",
    "        j=parse(Int64,join(y),2)+1;\n",
    "        M[i,j]=+1\n",
    "    end\n",
    "    return M\n",
    "end\n",
    "\n",
    "\n",
    "\n",
    "estados=allstate(6,[1,2,3],[0,1,0])\n",
    "@show A=estados[:,3]\n",
    "timestep(Mcon,A)[Cand]\n",
    "M=transition(Mcon,Cand,[0,1,0])\n"
   ]
  },
  {
   "cell_type": "code",
   "execution_count": 2,
   "metadata": {
    "collapsed": false,
    "scrolled": true
   },
   "outputs": [
    {
     "data": {
      "image/png": "[encoded data removed]",
      "text/plain": [
       "PyPlot.Figure(PyObject <matplotlib.figure.Figure object at 0x7fa8363d4f28>)"
      ]
     },
     "metadata": {},
     "output_type": "display_data"
    },
    {
     "data": {
      "text/plain": [
       "PyObject <matplotlib.text.Text object at 0x7fa81ee58e80>"
      ]
     },
     "execution_count": 2,
     "metadata": {},
     "output_type": "execute_result"
    }
   ],
   "source": [
    "using PyPlot\n",
    "\n",
    "function datah(Mat)\n",
    "    n=size(Mat)[1]\n",
    "    k=convert(Int64,log2(n))\n",
    "    y=Array{Int64}(n)\n",
    "    x=Array{String}(n)\n",
    "    for i in 1:n\n",
    "        y[i]=sum(Mat[:,i])\n",
    "        x[i]=bits(i-1)[65-k:64]\n",
    "    end\n",
    "    y=normalize(y,1)\n",
    "    fig = figure(\"pyplot_barplot\",figsize=(10,10))\n",
    "    subplot(211)\n",
    "    b = bar(x,y,color=\"#0f87bf\",align=\"center\",alpha=0.4)\n",
    "    axis(\"tight\")\n",
    "    title(\"Vertical Bar Plot\")\n",
    "    grid(\"on\")\n",
    "    xlabel(\"X\")\n",
    "    ylabel(\"Y\")\n",
    "end\n",
    "\n",
    "y=datah(M)"
   ]
  },
  {
   "cell_type": "markdown",
   "metadata": {
    "collapsed": true
   },
   "source": [
    "# Figura 3\n",
    "Ahora me enfocaré en reproducir los resultados de la figura 3. Para esto, necesito encontrar la earth mover's distance. Existe un código que encuentra esta distancia, pero este se encuentra escrito en python y no parece nada fácil de transcribir, por lo que necesito usar PyCall. "
   ]
  },
  {
   "cell_type": "code",
   "execution_count": 3,
   "metadata": {
    "collapsed": false
   },
   "outputs": [],
   "source": [
    "using PyCall\n",
    "@pyimport pyemd\n",
    "@pyimport numpy as np\n",
    "A=np.ascontiguousarray([0.0, 1.0])\n",
    "B=np.ascontiguousarray([5.0, 3.0])\n",
    "C=np.ascontiguousarray([[0.0,0.5],[0.5,0.0]])\n",
    "#pyemd.emd(A,B,C);"
   ]
  },
  {
   "cell_type": "markdown",
   "metadata": {},
   "source": [
    "Esta opción no parece funcionar, pues pyemd.emd parece no recibir los elementos A,B,C como Contiguous. Mejor, hago un script que llama a python desde la terminal. NOTA: Si existe una instalación de Conda.jl, la versión de python que se carga desde la terminal accesada por \"run\" es esa, por lo que es mejor desinstalar esa chingadera."
   ]
  },
  {
   "cell_type": "code",
   "execution_count": 4,
   "metadata": {
    "collapsed": false
   },
   "outputs": [],
   "source": [
    "using Distances\n",
    "\n",
    "function matrixtostring(M::Array{Float64,2})\n",
    "    n=size(M)[1]\n",
    "    part=M[:,1]\n",
    "    str=\"[$part\"\n",
    "    for i in 2:n-1\n",
    "        part=M[:,i]\n",
    "        str=join([str,\",$part\"])\n",
    "    end\n",
    "    part=M[:,n]\n",
    "    str=join([str,\",$part]\"])\n",
    "    return str\n",
    "end\n",
    "\n",
    "function distancematrix(size::Int64)\n",
    "    M=Array{Int64}(size,size)\n",
    "    k=convert(Int64,log2(size))\n",
    "    for i in 1:size\n",
    "        for j in 1:size\n",
    "            M[i,j]=hamming(bits(i-1)[65-k:64].data,bits(j-1)[65-k:64].data)\n",
    "        end\n",
    "    end\n",
    "    return M\n",
    "end\n",
    "\n",
    "function emd(histogram1::Array{Float64,1},histogram2::Array{Float64,1})\n",
    "    n=size(histogram1)[1]\n",
    "    A=\"$histogram1\"\n",
    "    B=\"$histogram2\"\n",
    "    C=matrixtostring(distancematrix(n)*1.0)\n",
    "    cmd=`/home/humberto/anaconda3/bin/python emd.py $A $B $C`\n",
    "    parse(Float64,chop(readstring(cmd)))\n",
    "end;"
   ]
  },
  {
   "cell_type": "code",
   "execution_count": 5,
   "metadata": {
    "collapsed": false,
    "scrolled": true
   },
   "outputs": [
    {
     "name": "stdout",
     "output_type": "stream",
     "text": [
      "y = normalize([1,1,1,1,1,1,1,0],1) = [0.142857,0.142857,0.142857,0.142857,0.142857,0.142857,0.142857,0.0]\n",
      "up = normalize(zeros(Float64,8) + 1,1) = [0.125,0.125,0.125,0.125,0.125,0.125,0.125,0.125]\n"
     ]
    },
    {
     "data": {
      "text/plain": [
       "0.21428699999999976"
      ]
     },
     "execution_count": 5,
     "metadata": {},
     "output_type": "execute_result"
    }
   ],
   "source": [
    "x=[0.0,0.0,0.0,0.0,0.0,0.0,0.0,1.0];\n",
    "@show y=normalize([1,1,1,1,1,1,1,0],1);\n",
    "@show up=normalize(zeros(Float64,8)+1,1);\n",
    "emd(y,up)"
   ]
  },
  {
   "cell_type": "markdown",
   "metadata": {},
   "source": [
    "# Figura 4\n",
    "Ahora, sintetizaré toda la información de la figura cuatro en una sola función que calcule la cause-effect information a partir de la matriz de conectividad y la lista de candidatos (que en este caso son todos los elementos). Recordemos:\n",
    "\n",
    "0: No hay conexión\n",
    "\n",
    "1: and\n",
    "\n",
    "2: or\n",
    "\n",
    "3: xor\n",
    "\n",
    "4:copy"
   ]
  },
  {
   "cell_type": "code",
   "execution_count": 6,
   "metadata": {
    "collapsed": false
   },
   "outputs": [
    {
     "data": {
      "image/png": "[encoded data removed]",
      "text/plain": [
       "PyPlot.Figure(PyObject <matplotlib.figure.Figure object at 0x7fa81e6144e0>)"
      ]
     },
     "metadata": {},
     "output_type": "display_data"
    },
    {
     "data": {
      "text/plain": [
       "PyObject <matplotlib.text.Text object at 0x7fa81eeef898>"
      ]
     },
     "execution_count": 6,
     "metadata": {},
     "output_type": "execute_result"
    }
   ],
   "source": [
    "Mcon=[0 2 2; 1 0 1 ;3 3 0];\n",
    "cand=[1,2,3];\n",
    "datah(transition(Mcon,cand,[0])) #el último argumento no importa aquí, pues todos los elementos son candidatos.\n",
    "#El diagrama representa el futuro sin restricciones."
   ]
  },
  {
   "cell_type": "code",
   "execution_count": 7,
   "metadata": {
    "collapsed": false
   },
   "outputs": [
    {
     "data": {
      "text/plain": [
       "0.33333858332783356"
      ]
     },
     "execution_count": 7,
     "metadata": {},
     "output_type": "execute_result"
    }
   ],
   "source": [
    "function causeinformation(Mcon::Array{Int64,2},Cand::Array{Int64,1},bgdstate::Array{Int64,1},Constraint::Array{Int64,2})\n",
    "    M=transition(Mcon,Cand,bgdstate)\n",
    "    L=size(Cand)[1]\n",
    "    n=2^L;\n",
    "    up=normalize(zeros(n)+1,1);\n",
    "    cr=zeros(n);\n",
    "    NC=size(Constraint)[1]#Número de constricciones\n",
    "    foo=zeros(NC)\n",
    "    for i in 1:n\n",
    "        nn=find(M[i,:])[1]\n",
    "        for j in 1:NC\n",
    "        b=parse(Int64,bits(nn-1)[end-(L-Constraint[j,1])])\n",
    "            if b==Constraint[j,2]\n",
    "                foo[j]=1\n",
    "            end\n",
    "        end\n",
    "        foo\n",
    "        cr[i]=prod(foo)\n",
    "        foo=zeros(NC)\n",
    "    end\n",
    "    normalize!(cr,1)#causerepertoire\n",
    "    return emd(cr,up)\n",
    "end\n",
    "\n",
    "function effectinformation(Mcon::Array{Int64,2},Cand::Array{Int64,1},bgdstate::Array{Int64,1},Constraint::Array{Int64,2})\n",
    "    ele=size(Mcon)[1]\n",
    "    L=size(Cand)[1]\n",
    "    n=2^L;\n",
    "    M=transition(Mcon,Cand,bgdstate)\n",
    "    states=allstate(ele,Cand,bgdstate)\n",
    "    for i in 1:size(Constraint)[1]\n",
    "        states[Constraint[i,1],:]=Constraint[i,2]\n",
    "    end\n",
    "    NE=size(states)[2]#Numero de estados posibles\n",
    "    er=zeros(n)\n",
    "    #Matriz que guardara la transicion de los posibles estados\n",
    "    for i in 1:NE\n",
    "        y=timestep(Mcon,states[:,i])\n",
    "        j=parse(Int64,join(y),2)+1;\n",
    "        er[j]=+1\n",
    "    end\n",
    "    normalize!(er,1)#effect repertoire\n",
    "    uf=Array{Float64}(n)\n",
    "    for i in 1:n\n",
    "        uf[i]=sum(M[:,i])\n",
    "    end\n",
    "    normalize!(uf,1)#Unconstrained future\n",
    "    return emd(uf,er)\n",
    "end\n",
    "#Para calcular el repertorio de efectos, primero generamos todos los posibles estados que cumplen con el constraint\n",
    "#y luego calculamos el timestep de estos\n",
    "\n",
    "#El argumento constraint recibe una matriz con las restricciones que se piden en el presente. Por ejemplo aquí, será \n",
    "#[1 1], pues el primer elemento (A) debe estar encendido.\n",
    "\n",
    "function ceinformation(Mcon::Array{Int64,2},Cand::Array{Int64,1},bgdstate::Array{Int64,1},Constraint::Array{Int64,2})\n",
    "    A=effectinformation(Mcon,Cand,bgdstate,Constraint)\n",
    "    B=causeinformation(Mcon,Cand,bgdstate,Constraint)\n",
    "    min(A,B)\n",
    "end\n",
    "\n",
    "causeinformation(Mcon,cand,[0],[1 1;2 1]) #Con este ejemplo vemos que el código funciona para restricciones múltiples\n",
    "effectinformation(Mcon,[1,2,3],[1],[1 1;2 1]);\n",
    "ceinformation(Mcon,cand,[1],[1 1])"
   ]
  },
  {
   "cell_type": "markdown",
   "metadata": {},
   "source": [
    "Al parecer, hay un error en el paper, pues el repertorio de efectos es distinto al que viene hay. Sin embargo, el mío sí concuerda con lo observado según la matriz de transición, que a su vez concuerda con lo previamente mencionado en el paper.\n",
    "\n",
    "En la siguiente celda usaremos la distribución mostrada (que consiste solo en cambiar 0.25 de 001 a 101) para calcular la EMD entre estas dos."
   ]
  },
  {
   "cell_type": "code",
   "execution_count": 8,
   "metadata": {
    "collapsed": false
   },
   "outputs": [
    {
     "data": {
      "text/plain": [
       "0.50000025"
      ]
     },
     "execution_count": 8,
     "metadata": {},
     "output_type": "execute_result"
    }
   ],
   "source": [
    "cf=[0.0,0.0,0.0,0.0,0.25,0.25,0.25,0.25]\n",
    "uf=[0.125,0.125,0.0,0.0,0.25,0.25,0.125,0.125]\n",
    "emd(cf,uf)"
   ]
  },
  {
   "cell_type": "markdown",
   "metadata": {},
   "source": [
    "Haciendo esto, vemos que tampoco se genera información de causa reportada. Sin embargo, el resultado calculado por la función emd es correcto."
   ]
  },
  {
   "cell_type": "markdown",
   "metadata": {
    "collapsed": true
   },
   "source": [
    "# Figura 5\n",
    "En la siguiente celda se prueba el código anterior con los ejemplos de la figura 5"
   ]
  },
  {
   "cell_type": "code",
   "execution_count": 24,
   "metadata": {
    "collapsed": false
   },
   "outputs": [
    {
     "name": "stderr",
     "output_type": "stream",
     "text": [
      "WARNING: Method definition causeinformation(Array{Int64, 2}, Array{Int64, 1}, Array{Int64, 1}, Array{Int64, 2}) in module Main at In[22]:2 overwritten at In[24]:2.\n",
      "WARNING: Method definition effectinformation(Array{Int64, 2}, Array{Int64, 1}, Array{Int64, 1}, Array{Int64, 2}) in module Main at In[22]:26 overwritten at In[24]:26.\n"
     ]
    },
    {
     "data": {
      "text/plain": [
       "effectinformation (generic function with 1 method)"
      ]
     },
     "execution_count": 24,
     "metadata": {},
     "output_type": "execute_result"
    }
   ],
   "source": [
    "function causeinformation(Mcon::Array{Int64,2},Cand::Array{Int64,1},bgdstate::Array{Int64,1},Constraint::Array{Int64,2})\n",
    "    M=transition(Mcon,Cand,bgdstate)\n",
    "    L=size(Cand)[1]\n",
    "    n=2^L;\n",
    "    up=normalize(zeros(n)+1,1);\n",
    "    cr=zeros(n);\n",
    "    NC=size(Constraint)[1]#Número de constricciones\n",
    "    foo=zeros(NC)\n",
    "    for i in 1:n\n",
    "        nn=find(M[i,:])[1]\n",
    "        for j in 1:NC\n",
    "        b=parse(Int64,bits(nn-1)[end-(L-Constraint[j,1])])\n",
    "            if b==Constraint[j,2]\n",
    "                foo[j]=1\n",
    "            end\n",
    "        end\n",
    "        foo\n",
    "        cr[i]=prod(foo)\n",
    "        foo=zeros(NC)\n",
    "    end\n",
    "    normalize!(cr,1)#causerepertoire\n",
    "    return emd(cr,up)\n",
    "end\n",
    "\n",
    "function effectinformation(Mcon::Array{Int64,2},Cand::Array{Int64,1},bgdstate::Array{Int64,1},Constraint::Array{Int64,2})\n",
    "    ele=size(Mcon)[1]\n",
    "    L=size(Cand)[1]\n",
    "    n=2^L;\n",
    "    M=transition(Mcon,Cand,bgdstate)\n",
    "    states=allstate(ele,Cand,bgdstate)\n",
    "    for i in 1:size(Constraint)[1]\n",
    "        states[Constraint[i,1],:]=Constraint[i,2]\n",
    "    end\n",
    "    NE=size(states)[2]#Numero de estados posibles\n",
    "    er=zeros(n)\n",
    "    #Matriz que guardara la transicion de los posibles estados\n",
    "    for i in 1:NE\n",
    "        y=timestep(Mcon,states[:,i])\n",
    "        j=parse(Int64,join(y),2)+1;\n",
    "        er[j]=+1\n",
    "    end\n",
    "    @show normalize!(er,1)#effect repertoire\n",
    "    uf=Array{Float64}(n)\n",
    "    for i in 1:n\n",
    "        uf[i]=sum(M[:,i])\n",
    "    end\n",
    "    @show normalize!(uf,1)#Unconstrained future\n",
    "    return emd(uf,er)\n",
    "end"
   ]
  },
  {
   "cell_type": "code",
   "execution_count": 20,
   "metadata": {
    "collapsed": false
   },
   "outputs": [
    {
     "name": "stdout",
     "output_type": "stream",
     "text": [
      "normalize!(cr,1) = [0.0,0.0,0.0,0.0,0.25,0.25,0.25,0.25]\n"
     ]
    },
    {
     "data": {
      "text/plain": [
       "0.49999950000000004"
      ]
     },
     "execution_count": 20,
     "metadata": {},
     "output_type": "execute_result"
    }
   ],
   "source": [
    "Mcon5b=[0 0 0; 1 0 1 ; 2 2 0]\n",
    "causeinformation(Mcon5b,[1,2,3],[1],[1 1])"
   ]
  },
  {
   "cell_type": "markdown",
   "metadata": {},
   "source": [
    "Esto tampoco corresponde a lo que se ve en el paper, que afirma que el repertorio de causas de A=1 son todos los estados. Esto es incorrecto, pues precisamente porque el elemento A no tiene comunicación con los demás elementos, solo se podrá acceder a este estado cuando en la causa A=1."
   ]
  },
  {
   "cell_type": "code",
   "execution_count": 25,
   "metadata": {
    "collapsed": false
   },
   "outputs": [
    {
     "name": "stdout",
     "output_type": "stream",
     "text": [
      "normalize!(er,1) = [0.0,0.0,0.0,0.0,0.0,0.5,0.0,0.5]\n",
      "normalize!(uf,1) = [0.25,0.25,0.0,0.0,0.0,0.25,0.0,0.25]\n"
     ]
    },
    {
     "data": {
      "text/plain": [
       "0.9999997500000001"
      ]
     },
     "execution_count": 25,
     "metadata": {},
     "output_type": "execute_result"
    }
   ],
   "source": [
    "effectinformation(Mcon5b,[1,2,3],[1],[1 1])"
   ]
  },
  {
   "cell_type": "code",
   "execution_count": 26,
   "metadata": {
    "collapsed": false
   },
   "outputs": [
    {
     "data": {
      "image/png": "[encoded data removed]",
      "text/plain": [
       "PyPlot.Figure(PyObject <matplotlib.figure.Figure object at 0x7fa81ed7eba8>)"
      ]
     },
     "metadata": {},
     "output_type": "display_data"
    },
    {
     "data": {
      "text/plain": [
       "PyObject <matplotlib.text.Text object at 0x7fa81ecdef28>"
      ]
     },
     "execution_count": 26,
     "metadata": {},
     "output_type": "execute_result"
    }
   ],
   "source": [
    "datah(transition(Mcon5b,[1,2,3],[11]))"
   ]
  },
  {
   "cell_type": "markdown",
   "metadata": {},
   "source": [
    "# Quantum Integrated Information (QII)"
   ]
  },
  {
   "cell_type": "markdown",
   "metadata": {},
   "source": [
    "Seguiremos el paper \"Integrated Information-induced quantum collapse\". Primero, necesitaremos una función que pase de estados tipo $|01\\rangle$ a vectores en la base computacional."
   ]
  },
  {
   "cell_type": "code",
   "execution_count": 1,
   "metadata": {
    "collapsed": false
   },
   "outputs": [
    {
     "data": {
      "text/plain": [
       "quantum_to_vec"
      ]
     },
     "execution_count": 1,
     "metadata": {},
     "output_type": "execute_result"
    }
   ],
   "source": [
    "\"\"\"\n",
    "El input es un vector en la notación ket y el output un vector en la base computacional.\n",
    "\"\"\"\n",
    "function quantum_to_vec(quantum_state::Array{Int64,1})\n",
    "    n=2^length(quantum_state)\n",
    "    vec=zeros(Int64,n)\n",
    "    pos=parse(Int64,join(quantum_state),2)+1\n",
    "    vec[pos]=1\n",
    "    vec\n",
    "end"
   ]
  },
  {
   "cell_type": "markdown",
   "metadata": {},
   "source": [
    "Verifiquemos lo anterior obteniendo la matriz de densidad de un estado puro, en este caso el Greenberger–Horne–Zeilinger (GHZ).\n",
    "Recordemos que para un estado puro $\\rho=|\\psi\\rangle \\langle \\psi |$"
   ]
  },
  {
   "cell_type": "code",
   "execution_count": 2,
   "metadata": {
    "collapsed": false
   },
   "outputs": [
    {
     "data": {
      "text/plain": [
       "8×8 Array{Float64,2}:\n",
       " 0.5  0.0  0.0  0.0  0.0  0.0  0.0  0.5\n",
       " 0.0  0.0  0.0  0.0  0.0  0.0  0.0  0.0\n",
       " 0.0  0.0  0.0  0.0  0.0  0.0  0.0  0.0\n",
       " 0.0  0.0  0.0  0.0  0.0  0.0  0.0  0.0\n",
       " 0.0  0.0  0.0  0.0  0.0  0.0  0.0  0.0\n",
       " 0.0  0.0  0.0  0.0  0.0  0.0  0.0  0.0\n",
       " 0.0  0.0  0.0  0.0  0.0  0.0  0.0  0.0\n",
       " 0.5  0.0  0.0  0.0  0.0  0.0  0.0  0.5"
      ]
     },
     "execution_count": 2,
     "metadata": {},
     "output_type": "execute_result"
    }
   ],
   "source": [
    "psi_GHZ=(quantum_to_vec([0,0,0])+quantum_to_vec([1,1,1]))/sqrt(2);\n",
    "ρGHZ=psi_GHZ*psi_GHZ'"
   ]
  },
  {
   "cell_type": "markdown",
   "metadata": {
    "collapsed": true
   },
   "source": [
    "## Traza parcial\n",
    "Hagamos ahora una función de la traza parcial generalizada para cualquier dimensión de sistemas sea cual sea la partición.Para esto traduzco el código \n",
    "http://library.wolfram.com/infocenter/MathSource/8763/#downloads\n",
    "de mathematica language a julia.\n",
    "Primero, necesito hacer una función que, dado un arreglo y dos posiciones de este, intercambie las partes.\n",
    "\n",
    "Notemos que la función dTraceSystemSymb se usa cuando la matriz de densidad es un arreglo de strings, mientras que dTraceSystem es para cuando el la matriz de densidad es un arreglo numérico. La notación es como sigue:\n",
    "\n",
    "Si $\\rho_{ABC}$ es el sistema general, entonces, por ejemplo, $\\rho_{B}=Tr_{AC}\\rho_{ABC}=dTraceSystem(\\rho_{ABC},[1,3],dim)$, donde dim=2 si se trata de qubits, dim=3 si son qutrits, dim=d si son qudits.\n"
   ]
  },
  {
   "cell_type": "code",
   "execution_count": 9,
   "metadata": {
    "collapsed": false
   },
   "outputs": [
    {
     "name": "stderr",
     "output_type": "stream",
     "text": [
      "WARNING: Method definition SwapParts(Any, Int64, Int64) in module Main at In[3]:2 overwritten at In[9]:2.\n",
      "WARNING: Method definition IntegerDigits(Any, Any, Any) in module Main at In[3]:7 overwritten at In[9]:7.\n",
      "WARNING: Method definition FromDigits(Any, Any) in module Main at In[3]:11 overwritten at In[9]:11.\n",
      "WARNING: Method definition ++(Array{String, 1}, Array{String, 1}) in module Main at In[3]:15 overwritten at In[9]:15.\n"
     ]
    },
    {
     "data": {
      "text/plain": [
       "++ (generic function with 1 method)"
      ]
     },
     "execution_count": 9,
     "metadata": {},
     "output_type": "execute_result"
    }
   ],
   "source": [
    "function SwapParts(expr,pos1::Int64,pos2::Int64)\n",
    "    expr[pos1], expr[pos2]=expr[pos2], expr[pos1]\n",
    "    expr\n",
    "end\n",
    "\n",
    "function IntegerDigits(n,b,len)\n",
    "    map(parse,split(base(b,n,len),\"\"))\n",
    "end\n",
    "\n",
    "function FromDigits(list,base)\n",
    "    parse(Int64,join(list),base)\n",
    "end\n",
    "\n",
    "function ++(a::Array{String,1},b::Array{String,1})\n",
    "    c=Array{String}(length(a))\n",
    "    for i in 1:length(a)\n",
    "        char1=a[i]\n",
    "        char2=b[i]\n",
    "        c[i]=\"$char1 + $char2\"\n",
    "    end\n",
    "    c\n",
    "end\n",
    "    "
   ]
  },
  {
   "cell_type": "code",
   "execution_count": 10,
   "metadata": {
    "collapsed": false
   },
   "outputs": [
    {
     "name": "stderr",
     "output_type": "stream",
     "text": [
      "WARNING: Method definition dTraceSystemSymb(Array{String, 2}, Any, Any) in module Main at In[4]:2 overwritten at In[10]:2.\n",
      "WARNING: Method definition dTraceSystem(Any, Any, Any) in module Main at In[4]:65 overwritten at In[10]:65.\n"
     ]
    },
    {
     "data": {
      "text/plain": [
       "dTraceSystem (generic function with 1 method)"
      ]
     },
     "execution_count": 10,
     "metadata": {},
     "output_type": "execute_result"
    }
   ],
   "source": [
    "function dTraceSystemSymb(D::Array{String,2}, s, dim)\n",
    "    Qudits=reverse(sort(s));\n",
    "    TrkM=D;\n",
    "    z=length(Qudits)+1;\n",
    "    q=1;\n",
    "    while q<z\n",
    "        n=Int(log(dim,size(TrkM)[1]));\n",
    "        M=deepcopy(TrkM);\n",
    "        k=Qudits[q]\n",
    "        if k==n\n",
    "            TrkM=[];\n",
    "            p=1;\n",
    "            C=[]\n",
    "            while p<(dim^n)+1\n",
    "                C=M[p,:][1:dim:dim^n]\n",
    "                for h in 1:dim-1\n",
    "                    C=C++M[p+h,:][1+h:dim:dim^n]\n",
    "                    if p==1\n",
    "                        append!(TrkM,C)\n",
    "                    else\n",
    "                        TrkM=hcat(TrkM,C)\n",
    "                    end\n",
    "                end\n",
    "                p+=dim\n",
    "            end\n",
    "            TrkM=permutedims(TrkM,[2,1])\n",
    "        else\n",
    "            j=0\n",
    "            while j<n-k\n",
    "                b=[0];\n",
    "                i=1\n",
    "                while i<(dim^n)+1\n",
    "                    if IntegerDigits(i-1,dim,n)[n]!=IntegerDigits(i-1,dim,n)[n-j-1] && count(k->(k==i),b)==0\n",
    "                        b=append!(b,FromDigits(SwapParts((IntegerDigits(i-1,dim,n)),n,n-j-1),dim)+1)\n",
    "                        c=collect(1:1:dim^n)\n",
    "                        perm=SwapParts(c,i,FromDigits(SwapParts(IntegerDigits(i-1,dim,n),n,n-j-1),dim)+1)\n",
    "                        M=M[perm,perm]\n",
    "                    end\n",
    "                    i+=1\n",
    "                end\n",
    "                j+=1\n",
    "            end\n",
    "            TrkM=[];\n",
    "            p=1\n",
    "            while p<(dim^n)+1\n",
    "                C=M[p,:][1:dim:dim^n]\n",
    "                for h in 1:dim-1\n",
    "                    C=C++M[p+h,:][1+h:dim:dim^n]\n",
    "                    if p==1\n",
    "                        append!(TrkM,C)\n",
    "                    else\n",
    "                        TrkM=hcat(TrkM,C)\n",
    "                    end\n",
    "                end\n",
    "                p+=dim\n",
    "            end\n",
    "            TrkM=permutedims(TrkM,[2,1])\n",
    "        end\n",
    "        q+=1\n",
    "    end\n",
    "    return TrkM\n",
    "end\n",
    "\n",
    "function dTraceSystem(D, s, dim)\n",
    "    Qudits=reverse(sort(s));\n",
    "    TrkM=D;\n",
    "    z=length(Qudits)+1;\n",
    "    q=1;\n",
    "    while q<z\n",
    "        n=Int(log(dim,size(TrkM)[1]));\n",
    "        M=deepcopy(TrkM);\n",
    "        k=Qudits[q]\n",
    "        if k==n\n",
    "            TrkM=[];\n",
    "            p=1;\n",
    "            C=[]\n",
    "            while p<(dim^n)+1\n",
    "                C=M[p,:][1:dim:dim^n]\n",
    "                for h in 1:dim-1\n",
    "                    C=C+M[p+h,:][1+h:dim:dim^n]\n",
    "                    if p==1\n",
    "                        append!(TrkM,C)\n",
    "                    else\n",
    "                        TrkM=hcat(TrkM,C)\n",
    "                    end\n",
    "                end\n",
    "                p+=dim\n",
    "            end\n",
    "            TrkM=permutedims(TrkM,[2,1])\n",
    "        else\n",
    "            j=0\n",
    "            while j<n-k\n",
    "                b=[0];\n",
    "                i=1\n",
    "                while i<(dim^n)+1\n",
    "                    if IntegerDigits(i-1,dim,n)[n]!=IntegerDigits(i-1,dim,n)[n-j-1] && count(k->(k==i),b)==0\n",
    "                        b=append!(b,FromDigits(SwapParts((IntegerDigits(i-1,dim,n)),n,n-j-1),dim)+1)\n",
    "                        c=collect(1:1:dim^n)\n",
    "                        perm=SwapParts(c,i,FromDigits(SwapParts(IntegerDigits(i-1,dim,n),n,n-j-1),dim)+1)\n",
    "                        M=M[perm,perm]\n",
    "                    end\n",
    "                    i+=1\n",
    "                end\n",
    "                j+=1\n",
    "            end\n",
    "            TrkM=[];\n",
    "            p=1\n",
    "            while p<(dim^n)+1\n",
    "                C=M[p,:][1:dim:dim^n]\n",
    "                for h in 1:dim-1\n",
    "                    C=C+M[p+h,:][1+h:dim:dim^n]\n",
    "                    if p==1\n",
    "                        append!(TrkM,C)\n",
    "                    else\n",
    "                        TrkM=hcat(TrkM,C)\n",
    "                    end\n",
    "                end\n",
    "                p+=dim\n",
    "            end\n",
    "            TrkM=permutedims(TrkM,[2,1])\n",
    "        end\n",
    "        q+=1\n",
    "    end\n",
    "    return convert(Array{Float64,2},TrkM)\n",
    "end"
   ]
  },
  {
   "cell_type": "markdown",
   "metadata": {
    "collapsed": true
   },
   "source": [
    "Trato ahora de comprobar esta función de distintas maneras.|"
   ]
  },
  {
   "cell_type": "code",
   "execution_count": 6,
   "metadata": {
    "collapsed": false
   },
   "outputs": [
    {
     "ename": "LoadError",
     "evalue": "LoadError: MethodError: no method matching ++(::Array{Any,1}, ::Array{Any,1})\nwhile loading In[6], in expression starting on line 5",
     "output_type": "error",
     "traceback": [
      "LoadError: MethodError: no method matching ++(::Array{Any,1}, ::Array{Any,1})\nwhile loading In[6], in expression starting on line 5",
      "",
      " in dTraceSystemSymb(::Array{String,2}, ::Array{Int64,1}, ::Int64) at ./In[4]:48"
     ]
    }
   ],
   "source": [
    "ρa=[\"a11\" \"a12\"; \"a21\" \"a22\"]\n",
    "ρb=[\"b11\" \"b12\"; \"b21\" \"b22\"]\n",
    "ρc=[\"c11\" \"c12\"; \"c21\" \"c22\"]\n",
    "ρabc=kron(kron(ρa,ρb),ρc)\n",
    "dTraceSystemSymb(ρabc,[1,3],2)"
   ]
  },
  {
   "cell_type": "markdown",
   "metadata": {},
   "source": [
    "Veamos si los resultados obtenidos corresponden a los presentados en Integrated Information-induced quantum collapse. Exploremos primero el estado GHZ."
   ]
  },
  {
   "cell_type": "code",
   "execution_count": 11,
   "metadata": {
    "collapsed": false
   },
   "outputs": [
    {
     "data": {
      "text/plain": [
       "8×8 Array{Float64,2}:\n",
       " 0.125  0.0    0.0    0.0    0.0    0.0    0.0    0.0  \n",
       " 0.0    0.125  0.0    0.0    0.0    0.0    0.0    0.0  \n",
       " 0.0    0.0    0.125  0.0    0.0    0.0    0.0    0.0  \n",
       " 0.0    0.0    0.0    0.125  0.0    0.0    0.0    0.0  \n",
       " 0.0    0.0    0.0    0.0    0.125  0.0    0.0    0.0  \n",
       " 0.0    0.0    0.0    0.0    0.0    0.125  0.0    0.0  \n",
       " 0.0    0.0    0.0    0.0    0.0    0.0    0.125  0.0  \n",
       " 0.0    0.0    0.0    0.0    0.0    0.0    0.0    0.125"
      ]
     },
     "execution_count": 11,
     "metadata": {},
     "output_type": "execute_result"
    }
   ],
   "source": [
    "ρGHZ_A=dTraceSystem(ρGHZ,[2,3],2)\n",
    "ρGHZ_B=dTraceSystem(ρGHZ,[1,3],2)\n",
    "ρGHZ_C=dTraceSystem(ρGHZ,[1,2],2)\n",
    "kron(kron(ρGHZ_A,ρGHZ_B),ρGHZ_C)"
   ]
  },
  {
   "cell_type": "code",
   "execution_count": 12,
   "metadata": {
    "collapsed": false
   },
   "outputs": [
    {
     "data": {
      "text/plain": [
       "8×8 Array{Float64,2}:\n",
       " 0.25  0.0  0.0  0.0   0.0   0.0  0.0  0.0 \n",
       " 0.0   0.0  0.0  0.0   0.0   0.0  0.0  0.0 \n",
       " 0.0   0.0  0.0  0.0   0.0   0.0  0.0  0.0 \n",
       " 0.0   0.0  0.0  0.25  0.0   0.0  0.0  0.0 \n",
       " 0.0   0.0  0.0  0.0   0.25  0.0  0.0  0.0 \n",
       " 0.0   0.0  0.0  0.0   0.0   0.0  0.0  0.0 \n",
       " 0.0   0.0  0.0  0.0   0.0   0.0  0.0  0.0 \n",
       " 0.0   0.0  0.0  0.0   0.0   0.0  0.0  0.25"
      ]
     },
     "execution_count": 12,
     "metadata": {},
     "output_type": "execute_result"
    }
   ],
   "source": [
    "ρGHZ_A=dTraceSystem(ρGHZ,[2,3],2)\n",
    "ρGHZ_BC=dTraceSystem(ρGHZ,[1],2)\n",
    "A=kron(ρGHZ_A,ρGHZ_BC)"
   ]
  },
  {
   "cell_type": "code",
   "execution_count": 17,
   "metadata": {
    "collapsed": false
   },
   "outputs": [
    {
     "data": {
      "text/plain": [
       "8×8 Array{Float64,2}:\n",
       " 0.5  0.0  0.0  0.0  0.0  0.0  0.0  0.5\n",
       " 0.0  0.0  0.0  0.0  0.0  0.0  0.0  0.0\n",
       " 0.0  0.0  0.0  0.0  0.0  0.0  0.0  0.0\n",
       " 0.0  0.0  0.0  0.0  0.0  0.0  0.0  0.0\n",
       " 0.0  0.0  0.0  0.0  0.0  0.0  0.0  0.0\n",
       " 0.0  0.0  0.0  0.0  0.0  0.0  0.0  0.0\n",
       " 0.0  0.0  0.0  0.0  0.0  0.0  0.0  0.0\n",
       " 0.5  0.0  0.0  0.0  0.0  0.0  0.0  0.5"
      ]
     },
     "execution_count": 17,
     "metadata": {},
     "output_type": "execute_result"
    }
   ],
   "source": [
    "ρGHZ"
   ]
  },
  {
   "cell_type": "code",
   "execution_count": 16,
   "metadata": {
    "collapsed": false
   },
   "outputs": [
    {
     "data": {
      "text/plain": [
       "8×8 Array{Complex{Float64},2}:\n",
       " NaN+0.0im  NaN+0.0im  NaN+0.0im  …  NaN+0.0im  NaN+0.0im  NaN+0.0im\n",
       " NaN+0.0im  NaN+0.0im  NaN+0.0im     NaN+0.0im  NaN+0.0im  NaN+0.0im\n",
       " NaN+0.0im  NaN+0.0im  NaN+0.0im     NaN+0.0im  NaN+0.0im  NaN+0.0im\n",
       " NaN+0.0im  NaN+0.0im  NaN+0.0im     NaN+0.0im  NaN+0.0im  NaN+0.0im\n",
       " NaN+0.0im  NaN+0.0im  NaN+0.0im     NaN+0.0im  NaN+0.0im  NaN+0.0im\n",
       " NaN+0.0im  NaN+0.0im  NaN+0.0im  …  NaN+0.0im  NaN+0.0im  NaN+0.0im\n",
       " NaN+0.0im  NaN+0.0im  NaN+0.0im     NaN+0.0im  NaN+0.0im  NaN+0.0im\n",
       " NaN+0.0im  NaN+0.0im  NaN+0.0im     NaN+0.0im  NaN+0.0im  NaN+0.0im"
      ]
     },
     "execution_count": 16,
     "metadata": {},
     "output_type": "execute_result"
    }
   ],
   "source": [
    "logm(A)"
   ]
  },
  {
   "cell_type": "markdown",
   "metadata": {},
   "source": [
    "Veamos ahora qué pasa con el estado W."
   ]
  },
  {
   "cell_type": "code",
   "execution_count": 13,
   "metadata": {
    "collapsed": false
   },
   "outputs": [
    {
     "data": {
      "text/plain": [
       "8×8 Array{Float64,2}:\n",
       " 8.0  0.0  0.0  0.0  0.0  0.0  0.0  0.0\n",
       " 0.0  4.0  0.0  0.0  0.0  0.0  0.0  0.0\n",
       " 0.0  0.0  4.0  0.0  0.0  0.0  0.0  0.0\n",
       " 0.0  0.0  0.0  2.0  0.0  0.0  0.0  0.0\n",
       " 0.0  0.0  0.0  0.0  4.0  0.0  0.0  0.0\n",
       " 0.0  0.0  0.0  0.0  0.0  2.0  0.0  0.0\n",
       " 0.0  0.0  0.0  0.0  0.0  0.0  2.0  0.0\n",
       " 0.0  0.0  0.0  0.0  0.0  0.0  0.0  1.0"
      ]
     },
     "execution_count": 13,
     "metadata": {},
     "output_type": "execute_result"
    }
   ],
   "source": [
    "psi_W=(quantum_to_vec([0,0,1])+quantum_to_vec([0,1,0])+quantum_to_vec([1,0,0]))/sqrt(3);\n",
    "ρW=psi_W*psi_W';\n",
    "ρW_A=dTraceSystem(ρW,[2,3],2)\n",
    "ρW_B=dTraceSystem(ρW,[1,3],2)\n",
    "ρW_C=dTraceSystem(ρW,[1,2],2)\n",
    "27*kron(kron(ρW_A,ρW_B),ρW_C)"
   ]
  },
  {
   "cell_type": "code",
   "execution_count": 14,
   "metadata": {
    "collapsed": false
   },
   "outputs": [
    {
     "data": {
      "text/plain": [
       "8×8 Array{Float64,2}:\n",
       " 2.0  0.0  0.0  0.0  0.0  0.0  0.0  0.0\n",
       " 0.0  2.0  2.0  0.0  0.0  0.0  0.0  0.0\n",
       " 0.0  2.0  2.0  0.0  0.0  0.0  0.0  0.0\n",
       " 0.0  0.0  0.0  0.0  0.0  0.0  0.0  0.0\n",
       " 0.0  0.0  0.0  0.0  1.0  0.0  0.0  0.0\n",
       " 0.0  0.0  0.0  0.0  0.0  1.0  1.0  0.0\n",
       " 0.0  0.0  0.0  0.0  0.0  1.0  1.0  0.0\n",
       " 0.0  0.0  0.0  0.0  0.0  0.0  0.0  0.0"
      ]
     },
     "execution_count": 14,
     "metadata": {},
     "output_type": "execute_result"
    }
   ],
   "source": [
    "ρW_A=dTraceSystem(ρW,[2,3],2)\n",
    "ρW_BC=dTraceSystem(ρW,[1],2)\n",
    "9*kron(ρW_A,ρW_BC)"
   ]
  },
  {
   "cell_type": "markdown",
   "metadata": {},
   "source": [
    "Vemos que todo concuerda con el paper."
   ]
  },
  {
   "cell_type": "markdown",
   "metadata": {},
   "source": [
    "## Combinatoria y cálculo de MIP\n",
    "En este apartado se genran todas las particiones posibles de un sistema"
   ]
  },
  {
   "cell_type": "code",
   "execution_count": 121,
   "metadata": {
    "collapsed": false
   },
   "outputs": [
    {
     "name": "stderr",
     "output_type": "stream",
     "text": [
      "INFO: Recompiling stale cache file /home/humberto/.julia/lib/v0.5/Polynomials.ji for module Polynomials.\n"
     ]
    }
   ],
   "source": [
    "using Combinatorics"
   ]
  },
  {
   "cell_type": "code",
   "execution_count": 142,
   "metadata": {
    "collapsed": false
   },
   "outputs": [
    {
     "data": {
      "text/plain": [
       "4-element Array{Any,1}:\n",
       " Array{Int64,1}[[1,2],[3]]  \n",
       " Array{Int64,1}[[1,3],[2]]  \n",
       " Array{Int64,1}[[1],[2,3]]  \n",
       " Array{Int64,1}[[1],[2],[3]]"
      ]
     },
     "execution_count": 142,
     "metadata": {},
     "output_type": "execute_result"
    }
   ],
   "source": [
    "collect(partitions([1,2,3]))[2:end]"
   ]
  },
  {
   "cell_type": "markdown",
   "metadata": {},
   "source": [
    "En el caso cuántico, el MIP está definido como el ínfimo de la entropía cuántica relativa entre la matriz de densidad del sistema completo y el producto de Kronecker de alguna partición posible del sistema, es decir,\n",
    "$$\\Phi(\\rho)=inf(S(\\rho|| \\otimes^N _{i=1} Tr_{i} (\\rho )): {H}=H_1 \\otimes ... \\otimes H_N )$$\n",
    "y la entroía cuántica relativa está dada por \n",
    "$$S(\\sigma_1 || \\sigma_2 ) := Tr(\\sigma_1 \\log(\\sigma_1 ))-Tr(\\sigma_1 \\log(\\sigma_2 ))$$\n",
    "donde $\\sigma_1$ y $\\sigma_2$ son matrices de densidad. Esta definición es una extensión directa de la entropía de Kullback-Leibler.\n",
    "\n",
    "Para calcular el logaritmo de una matriz, utilicemos el algoritmo de la wikipedia https://en.wikipedia.org/wiki/Logarithm_of_a_matrix: $\\log A = V(\\log A') V^{-1}$"
   ]
  },
  {
   "cell_type": "code",
   "execution_count": 289,
   "metadata": {
    "collapsed": false
   },
   "outputs": [
    {
     "name": "stderr",
     "output_type": "stream",
     "text": [
      "WARNING: Method definition chopnumber(Float64) in module Main at In[280]:2 overwritten at In[289]:2.\n",
      "WARNING: Method definition chopnumber(Float64, Any) in module Main at In[280]:2 overwritten at In[289]:2.\n",
      "WARNING: Method definition chopnumber(Array{Float64, 2}) in module Main at In[280]:10 overwritten at In[289]:10.\n",
      "WARNING: Method definition chopnumber(Array{Float64, 2}, Any) in module Main at In[280]:10 overwritten at In[289]:10.\n",
      "WARNING: Method definition notinf(Float64) in module Main at In[280]:18 overwritten at In[289]:18.\n",
      "WARNING: Method definition notinf(Float64, Any) in module Main at In[280]:18 overwritten at In[289]:18.\n",
      "WARNING: Method definition notinf(Array{Float64, 2}) in module Main at In[280]:26 overwritten at In[289]:26.\n",
      "WARNING: Method definition notinf(Array{Float64, 2}, Any) in module Main at In[280]:26 overwritten at In[289]:26.\n",
      "WARNING: Method definition NaNtozero(Array{Base.Complex{Float64}, 2}) in module Main at In[280]:34 overwritten at In[289]:34.\n"
     ]
    },
    {
     "data": {
      "text/plain": [
       "NaNtozero (generic function with 2 methods)"
      ]
     },
     "execution_count": 289,
     "metadata": {},
     "output_type": "execute_result"
    }
   ],
   "source": [
    "function chopnumber(x::Float64, epsilon=10e-15)   \n",
    "    if abs(x) < epsilon\n",
    "        return Float64(0)\n",
    "    else\n",
    "        return x\n",
    "    end\n",
    "end\n",
    "\n",
    "function chopnumber(y::Array{Float64,2}, epsilon=10e-15) \n",
    "    x=copy(y)\n",
    "    for i=1:length(x)\n",
    "        x[i]=chopnumber(x[i],epsilon)\n",
    "    end\n",
    "    return x\n",
    "end\n",
    "\n",
    "function notinf(x::Float64,sust=10e15)   \n",
    "    if abs(x) == Inf\n",
    "        return sign(x)*sust\n",
    "    else\n",
    "        return x\n",
    "    end\n",
    "end\n",
    "\n",
    "function notinf(y::Array{Float64,2},sust=10e15) \n",
    "    x=copy(y)\n",
    "    for i=1:length(x)\n",
    "        x[i]=notinf(x[i],sust)\n",
    "    end\n",
    "    return x\n",
    "end\n",
    "\n",
    "function NaNtozero(y::Array{Complex{Float64},2}) \n",
    "    x=copy(y)\n",
    "    for i=1:length(x)\n",
    "        if isequal(NaN,abs(x[i]))\n",
    "            x[i]=0\n",
    "        end\n",
    "    end\n",
    "    return x\n",
    "end"
   ]
  },
  {
   "cell_type": "code",
   "execution_count": 208,
   "metadata": {
    "collapsed": false
   },
   "outputs": [
    {
     "name": "stderr",
     "output_type": "stream",
     "text": [
      "WARNING: Method definition quantum_relative_entropy(Any, Any) in module Main at In[206]:2 overwritten at In[208]:2.\n"
     ]
    },
    {
     "data": {
      "text/plain": [
       "quantum_relative_entropy (generic function with 1 method)"
      ]
     },
     "execution_count": 208,
     "metadata": {},
     "output_type": "execute_result"
    }
   ],
   "source": [
    "function quantum_relative_entropy(A,B)\n",
    "    trace(A*Mlog(A))-trace(A*Mlog(B))\n",
    "end"
   ]
  },
  {
   "cell_type": "code",
   "execution_count": 290,
   "metadata": {
    "collapsed": false
   },
   "outputs": [
    {
     "data": {
      "text/plain": [
       "8×8 Array{Complex{Float64},2}:\n",
       " 0.0+0.0im  0.0+0.0im  0.0+0.0im  …  0.0+0.0im  0.0+0.0im  0.0+0.0im\n",
       " 0.0+0.0im  0.0+0.0im  0.0+0.0im     0.0+0.0im  0.0+0.0im  0.0+0.0im\n",
       " 0.0+0.0im  0.0+0.0im  0.0+0.0im     0.0+0.0im  0.0+0.0im  0.0+0.0im\n",
       " 0.0+0.0im  0.0+0.0im  0.0+0.0im     0.0+0.0im  0.0+0.0im  0.0+0.0im\n",
       " 0.0+0.0im  0.0+0.0im  0.0+0.0im     0.0+0.0im  0.0+0.0im  0.0+0.0im\n",
       " 0.0+0.0im  0.0+0.0im  0.0+0.0im  …  0.0+0.0im  0.0+0.0im  0.0+0.0im\n",
       " 0.0+0.0im  0.0+0.0im  0.0+0.0im     0.0+0.0im  0.0+0.0im  0.0+0.0im\n",
       " 0.0+0.0im  0.0+0.0im  0.0+0.0im     0.0+0.0im  0.0+0.0im  0.0+0.0im"
      ]
     },
     "execution_count": 290,
     "metadata": {},
     "output_type": "execute_result"
    }
   ],
   "source": [
    "NaNtozero(logm(A))"
   ]
  }
 ],
 "metadata": {
  "anaconda-cloud": {},
  "kernelspec": {
   "display_name": "Julia 0.5.0",
   "language": "julia",
   "name": "julia-0.5"
  },
  "language_info": {
   "file_extension": ".jl",
   "mimetype": "application/julia",
   "name": "julia",
   "version": "0.5.0"
  }
 },
 "nbformat": 4,
 "nbformat_minor": 1
}
