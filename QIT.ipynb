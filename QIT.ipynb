{
 "cells": [
  {
   "cell_type": "markdown",
   "metadata": {},
   "source": [
    "# Quantum Integrated Information (QII)"
   ]
  },
  {
   "cell_type": "markdown",
   "metadata": {},
   "source": [
    "Seguiremos el paper \"Integrated Information-induced quantum collapse\". Primero, necesitaremos una función que pase de estados tipo $|01\\rangle$ a vectores en la base computacional (binaria)."
   ]
  },
  {
   "cell_type": "code",
   "execution_count": 1,
   "metadata": {
    "collapsed": false,
    "init_cell": true
   },
   "outputs": [
    {
     "data": {
      "text/plain": [
       "quantum_to_vec"
      ]
     },
     "execution_count": 1,
     "metadata": {},
     "output_type": "execute_result"
    }
   ],
   "source": [
    "\"\"\"\n",
    "El input es un vector en la notación ket y el output un vector en la base computacional.\n",
    "\"\"\"\n",
    "function quantum_to_vec(quantum_state::Array{Int64,1},base=2)\n",
    "    n=2^length(quantum_state)\n",
    "    vec=zeros(Int64,n)\n",
    "    pos=parse(Int64,join(quantum_state),base)+1\n",
    "    vec[pos]=1\n",
    "    vec\n",
    "end"
   ]
  },
  {
   "cell_type": "markdown",
   "metadata": {},
   "source": [
    "Verifiquemos lo anterior obteniendo la matriz de densidad de un estado puro, en este caso el Greenberger–Horne–Zeilinger (GHZ).\n",
    "Recordemos que para un estado puro $\\rho=|\\psi\\rangle \\langle \\psi |$"
   ]
  },
  {
   "cell_type": "code",
   "execution_count": 2,
   "metadata": {
    "collapsed": false,
    "init_cell": true
   },
   "outputs": [
    {
     "data": {
      "text/plain": [
       "8×8 Array{Float64,2}:\n",
       " 0.5  0.0  0.0  0.0  0.0  0.0  0.0  0.5\n",
       " 0.0  0.0  0.0  0.0  0.0  0.0  0.0  0.0\n",
       " 0.0  0.0  0.0  0.0  0.0  0.0  0.0  0.0\n",
       " 0.0  0.0  0.0  0.0  0.0  0.0  0.0  0.0\n",
       " 0.0  0.0  0.0  0.0  0.0  0.0  0.0  0.0\n",
       " 0.0  0.0  0.0  0.0  0.0  0.0  0.0  0.0\n",
       " 0.0  0.0  0.0  0.0  0.0  0.0  0.0  0.0\n",
       " 0.5  0.0  0.0  0.0  0.0  0.0  0.0  0.5"
      ]
     },
     "execution_count": 2,
     "metadata": {},
     "output_type": "execute_result"
    }
   ],
   "source": [
    "psi_GHZ=(quantum_to_vec([0,0,0])+quantum_to_vec([1,1,1]))/sqrt(2);\n",
    "ρGHZ=psi_GHZ*psi_GHZ'"
   ]
  },
  {
   "cell_type": "markdown",
   "metadata": {
    "collapsed": true
   },
   "source": [
    "## Traza parcial\n",
    "Hagamos ahora una función de la traza parcial generalizada para cualquier dimensión de sistemas sea cual sea la partición.Para esto traduzco el código \n",
    "http://library.wolfram.com/infocenter/MathSource/8763/#downloads\n",
    "de mathematica language a julia.\n",
    "Primero, necesito hacer una función que, dado un arreglo y dos posiciones de este, intercambie las partes.\n",
    "\n",
    "Notemos que la función dTraceSystemSymb se usa cuando la matriz de densidad es un arreglo de strings, mientras que dTraceSystem es para cuando el la matriz de densidad es un arreglo numérico. La notación es como sigue:\n",
    "\n",
    "Si $\\rho_{ABC}$ es el sistema general, entonces, por ejemplo, $\\rho_{B}=Tr_{AC}\\rho_{ABC}=dTraceSystem(\\rho_{ABC},[1,3],dim)$, donde dim=2 si se trata de qubits, dim=3 si son qutrits, dim=d si son qudits.\n"
   ]
  },
  {
   "cell_type": "code",
   "execution_count": 3,
   "metadata": {
    "collapsed": false,
    "init_cell": true
   },
   "outputs": [
    {
     "data": {
      "text/plain": [
       "++ (generic function with 1 method)"
      ]
     },
     "execution_count": 3,
     "metadata": {},
     "output_type": "execute_result"
    }
   ],
   "source": [
    "function SwapParts(expr,pos1::Int64,pos2::Int64)\n",
    "    expr[pos1], expr[pos2]=expr[pos2], expr[pos1]\n",
    "    expr\n",
    "end\n",
    "\n",
    "function IntegerDigits(n,b,len)\n",
    "    map(parse,split(base(b,n,len),\"\"))\n",
    "end\n",
    "\n",
    "function FromDigits(list,base)\n",
    "    parse(Int64,join(list),base)\n",
    "end\n",
    "\n",
    "function ++(a::Array{String,1},b::Array{String,1})\n",
    "    c=Array{String}(length(a))\n",
    "    for i in 1:length(a)\n",
    "        char1=a[i]\n",
    "        char2=b[i]\n",
    "        c[i]=\"$char1 + $char2\"\n",
    "    end\n",
    "    c\n",
    "end\n",
    "    "
   ]
  },
  {
   "cell_type": "code",
   "execution_count": 4,
   "metadata": {
    "collapsed": false,
    "init_cell": true
   },
   "outputs": [
    {
     "data": {
      "text/plain": [
       "dTraceSystem (generic function with 1 method)"
      ]
     },
     "execution_count": 4,
     "metadata": {},
     "output_type": "execute_result"
    }
   ],
   "source": [
    "function dTraceSystemSymb(D::Array{String,2}, s, dim)\n",
    "    Qudits=reverse(sort(s));\n",
    "    TrkM=D;\n",
    "    z=length(Qudits)+1;\n",
    "    q=1;\n",
    "    while q<z\n",
    "        n=Int(log(dim,size(TrkM)[1]));\n",
    "        M=deepcopy(TrkM);\n",
    "        k=Qudits[q]\n",
    "        if k==n\n",
    "            TrkM=[];\n",
    "            p=1;\n",
    "            C=[]\n",
    "            while p<(dim^n)+1\n",
    "                C=M[p,:][1:dim:dim^n]\n",
    "                for h in 1:dim-1\n",
    "                    C=C++M[p+h,:][1+h:dim:dim^n]\n",
    "                    if p==1\n",
    "                        append!(TrkM,C)\n",
    "                    else\n",
    "                        TrkM=hcat(TrkM,C)\n",
    "                    end\n",
    "                end\n",
    "                p+=dim\n",
    "            end\n",
    "            TrkM=permutedims(TrkM,[2,1])\n",
    "        else\n",
    "            j=0\n",
    "            while j<n-k\n",
    "                b=[0];\n",
    "                i=1\n",
    "                while i<(dim^n)+1\n",
    "                    if IntegerDigits(i-1,dim,n)[n]!=IntegerDigits(i-1,dim,n)[n-j-1] && count(k->(k==i),b)==0\n",
    "                        b=append!(b,FromDigits(SwapParts((IntegerDigits(i-1,dim,n)),n,n-j-1),dim)+1)\n",
    "                        c=collect(1:1:dim^n)\n",
    "                        perm=SwapParts(c,i,FromDigits(SwapParts(IntegerDigits(i-1,dim,n),n,n-j-1),dim)+1)\n",
    "                        M=M[perm,perm]\n",
    "                    end\n",
    "                    i+=1\n",
    "                end\n",
    "                j+=1\n",
    "            end\n",
    "            TrkM=[];\n",
    "            p=1\n",
    "            while p<(dim^n)+1\n",
    "                C=M[p,:][1:dim:dim^n]\n",
    "                for h in 1:dim-1\n",
    "                    C=C++M[p+h,:][1+h:dim:dim^n]\n",
    "                    if p==1\n",
    "                        append!(TrkM,C)\n",
    "                    else\n",
    "                        TrkM=hcat(TrkM,C)\n",
    "                    end\n",
    "                end\n",
    "                p+=dim\n",
    "            end\n",
    "            TrkM=permutedims(TrkM,[2,1])\n",
    "        end\n",
    "        q+=1\n",
    "    end\n",
    "    return TrkM\n",
    "end\n",
    "\n",
    "function dTraceSystem(D, s, dim)\n",
    "    Qudits=reverse(sort(s));\n",
    "    TrkM=D;\n",
    "    z=length(Qudits)+1;\n",
    "    q=1;\n",
    "    while q<z\n",
    "        n=Int(round(log(dim,size(TrkM)[1])));\n",
    "        M=deepcopy(TrkM);\n",
    "        k=Qudits[q]\n",
    "        if k==n\n",
    "            TrkM=[];\n",
    "            p=1;\n",
    "            C=[]\n",
    "            while p<(dim^n)+1\n",
    "                C=M[p,:][1:dim:dim^n]\n",
    "                for h in 1:dim-1\n",
    "                    C=C+M[p+h,:][1+h:dim:dim^n]\n",
    "                end\n",
    "                if p==1\n",
    "                    append!(TrkM,C)\n",
    "                else\n",
    "                    TrkM=hcat(TrkM,C)\n",
    "                end\n",
    "                p+=dim\n",
    "            end\n",
    "            TrkM=permutedims(TrkM,[2,1])\n",
    "        else\n",
    "            j=0\n",
    "            while j<n-k\n",
    "                b=[0];\n",
    "                i=1\n",
    "                while i<(dim^n)+1\n",
    "                    if IntegerDigits(i-1,dim,n)[n]!=IntegerDigits(i-1,dim,n)[n-j-1] && count(k->(k==i),b)==0\n",
    "                        b=append!(b,FromDigits(SwapParts((IntegerDigits(i-1,dim,n)),n,n-j-1),dim)+1)\n",
    "                        c=collect(1:1:dim^n)\n",
    "                        perm=SwapParts(c,i,FromDigits(SwapParts(IntegerDigits(i-1,dim,n),n,n-j-1),dim)+1)\n",
    "                        M=M[perm,perm]\n",
    "                    end\n",
    "                    i+=1\n",
    "                end\n",
    "                j+=1\n",
    "            end\n",
    "            TrkM=[];\n",
    "            p=1\n",
    "            while p<(dim^n)+1\n",
    "                C=M[p,:][1:dim:dim^n]\n",
    "                for h in 1:dim-1\n",
    "                    C=C+M[p+h,:][1+h:dim:dim^n]\n",
    "                end\n",
    "                if p==1\n",
    "                    append!(TrkM,C)\n",
    "                else\n",
    "                    TrkM=hcat(TrkM,C)\n",
    "                end\n",
    "                p+=dim\n",
    "            end\n",
    "            TrkM=permutedims(TrkM,[2,1])\n",
    "        end\n",
    "        q+=1\n",
    "    end\n",
    "    return TrkM\n",
    "end"
   ]
  },
  {
   "cell_type": "markdown",
   "metadata": {
    "collapsed": true
   },
   "source": [
    "Trato ahora de comprobar esta función de distintas maneras.|"
   ]
  },
  {
   "cell_type": "code",
   "execution_count": 5,
   "metadata": {
    "collapsed": false
   },
   "outputs": [
    {
     "ename": "LoadError",
     "evalue": "LoadError: MethodError: no method matching ++(::Array{Any,1}, ::Array{Any,1})\nwhile loading In[5], in expression starting on line 5",
     "output_type": "error",
     "traceback": [
      "LoadError: MethodError: no method matching ++(::Array{Any,1}, ::Array{Any,1})\nwhile loading In[5], in expression starting on line 5",
      "",
      " in dTraceSystemSymb(::Array{String,2}, ::Array{Int64,1}, ::Int64) at ./In[4]:48"
     ]
    }
   ],
   "source": [
    "ρa=[\"a11\" \"a12\"; \"a21\" \"a22\"]\n",
    "ρb=[\"b11\" \"b12\"; \"b21\" \"b22\"]\n",
    "ρc=[\"c11\" \"c12\"; \"c21\" \"c22\"]\n",
    "ρabc=kron(kron(ρa,ρb),ρc)\n",
    "dTraceSystemSymb(ρabc,[1,3],2)"
   ]
  },
  {
   "cell_type": "markdown",
   "metadata": {},
   "source": [
    "Veamos si los resultados obtenidos corresponden a los presentados en Integrated Information-induced quantum collapse. Exploremos primero el estado GHZ."
   ]
  },
  {
   "cell_type": "code",
   "execution_count": 6,
   "metadata": {
    "collapsed": false
   },
   "outputs": [
    {
     "data": {
      "text/plain": [
       "8×8 Array{Any,2}:\n",
       " 0.125  0.0    0.0    0.0    0.0    0.0    0.0    0.0  \n",
       " 0.0    0.125  0.0    0.0    0.0    0.0    0.0    0.0  \n",
       " 0.0    0.0    0.125  0.0    0.0    0.0    0.0    0.0  \n",
       " 0.0    0.0    0.0    0.125  0.0    0.0    0.0    0.0  \n",
       " 0.0    0.0    0.0    0.0    0.125  0.0    0.0    0.0  \n",
       " 0.0    0.0    0.0    0.0    0.0    0.125  0.0    0.0  \n",
       " 0.0    0.0    0.0    0.0    0.0    0.0    0.125  0.0  \n",
       " 0.0    0.0    0.0    0.0    0.0    0.0    0.0    0.125"
      ]
     },
     "execution_count": 6,
     "metadata": {},
     "output_type": "execute_result"
    }
   ],
   "source": [
    "ρGHZ_A=dTraceSystem(ρGHZ,[2,3],2)\n",
    "ρGHZ_B=dTraceSystem(ρGHZ,[1,3],2)\n",
    "ρGHZ_C=dTraceSystem(ρGHZ,[1,2],2)\n",
    "ρGHZ_A_B_C=kron(kron(ρGHZ_A,ρGHZ_B),ρGHZ_C)"
   ]
  },
  {
   "cell_type": "code",
   "execution_count": 7,
   "metadata": {
    "collapsed": false
   },
   "outputs": [
    {
     "data": {
      "text/plain": [
       "8×8 Array{Any,2}:\n",
       " 0.25  0.0  0.0  0.0   0.0   0.0  0.0  0.0 \n",
       " 0.0   0.0  0.0  0.0   0.0   0.0  0.0  0.0 \n",
       " 0.0   0.0  0.0  0.0   0.0   0.0  0.0  0.0 \n",
       " 0.0   0.0  0.0  0.25  0.0   0.0  0.0  0.0 \n",
       " 0.0   0.0  0.0  0.0   0.25  0.0  0.0  0.0 \n",
       " 0.0   0.0  0.0  0.0   0.0   0.0  0.0  0.0 \n",
       " 0.0   0.0  0.0  0.0   0.0   0.0  0.0  0.0 \n",
       " 0.0   0.0  0.0  0.0   0.0   0.0  0.0  0.25"
      ]
     },
     "execution_count": 7,
     "metadata": {},
     "output_type": "execute_result"
    }
   ],
   "source": [
    "ρGHZ_A=dTraceSystem(ρGHZ,[2,3],2)\n",
    "ρGHZ_BC=dTraceSystem(ρGHZ,[1],2)\n",
    "ρGHZ_A_BC=kron(ρGHZ_A,ρGHZ_BC)"
   ]
  },
  {
   "cell_type": "markdown",
   "metadata": {},
   "source": [
    "Veamos ahora qué pasa con el estado W."
   ]
  },
  {
   "cell_type": "code",
   "execution_count": 5,
   "metadata": {
    "collapsed": false,
    "init_cell": true
   },
   "outputs": [
    {
     "data": {
      "text/plain": [
       "8×8 Array{Any,2}:\n",
       " 0.296296  0.0       0.0       0.0        …  0.0        0.0        0.0     \n",
       " 0.0       0.148148  0.0       0.0           0.0        0.0        0.0     \n",
       " 0.0       0.0       0.148148  0.0           0.0        0.0        0.0     \n",
       " 0.0       0.0       0.0       0.0740741     0.0        0.0        0.0     \n",
       " 0.0       0.0       0.0       0.0           0.0        0.0        0.0     \n",
       " 0.0       0.0       0.0       0.0        …  0.0740741  0.0        0.0     \n",
       " 0.0       0.0       0.0       0.0           0.0        0.0740741  0.0     \n",
       " 0.0       0.0       0.0       0.0           0.0        0.0        0.037037"
      ]
     },
     "execution_count": 5,
     "metadata": {},
     "output_type": "execute_result"
    }
   ],
   "source": [
    "psi_W=(quantum_to_vec([0,0,1])+quantum_to_vec([0,1,0])+quantum_to_vec([1,0,0]))/sqrt(3);\n",
    "ρW=psi_W*psi_W';\n",
    "ρW_A=dTraceSystem(ρW,[2,3],2)\n",
    "ρW_B=dTraceSystem(ρW,[1,3],2)\n",
    "ρW_C=dTraceSystem(ρW,[1,2],2)\n",
    "ρW_A_B_C=kron(kron(ρW_A,ρW_B),ρW_C)"
   ]
  },
  {
   "cell_type": "code",
   "execution_count": 9,
   "metadata": {
    "collapsed": false
   },
   "outputs": [
    {
     "data": {
      "text/plain": [
       "8×8 Array{Any,2}:\n",
       " 0.222222  0.0       0.0       0.0  0.0       0.0       0.0       0.0\n",
       " 0.0       0.222222  0.222222  0.0  0.0       0.0       0.0       0.0\n",
       " 0.0       0.222222  0.222222  0.0  0.0       0.0       0.0       0.0\n",
       " 0.0       0.0       0.0       0.0  0.0       0.0       0.0       0.0\n",
       " 0.0       0.0       0.0       0.0  0.111111  0.0       0.0       0.0\n",
       " 0.0       0.0       0.0       0.0  0.0       0.111111  0.111111  0.0\n",
       " 0.0       0.0       0.0       0.0  0.0       0.111111  0.111111  0.0\n",
       " 0.0       0.0       0.0       0.0  0.0       0.0       0.0       0.0"
      ]
     },
     "execution_count": 9,
     "metadata": {},
     "output_type": "execute_result"
    }
   ],
   "source": [
    "ρW_A=dTraceSystem(ρW,[2,3],2)\n",
    "ρW_BC=dTraceSystem(ρW,[1],2)\n",
    "ρW_A_BC=kron(ρW_A,ρW_BC)"
   ]
  },
  {
   "cell_type": "markdown",
   "metadata": {},
   "source": [
    "Vemos que todo concuerda con el paper."
   ]
  },
  {
   "cell_type": "markdown",
   "metadata": {},
   "source": [
    "## Combinatoria y cálculo de MIP\n",
    "En este apartado se genran todas las particiones posibles de un sistema"
   ]
  },
  {
   "cell_type": "code",
   "execution_count": 6,
   "metadata": {
    "collapsed": false,
    "init_cell": true
   },
   "outputs": [],
   "source": [
    "using Combinatorics"
   ]
  },
  {
   "cell_type": "code",
   "execution_count": 11,
   "metadata": {
    "collapsed": false
   },
   "outputs": [
    {
     "data": {
      "text/plain": [
       "4-element Array{Any,1}:\n",
       " Array{Int64,1}[[1,2],[3]]  \n",
       " Array{Int64,1}[[1,3],[2]]  \n",
       " Array{Int64,1}[[1],[2,3]]  \n",
       " Array{Int64,1}[[1],[2],[3]]"
      ]
     },
     "execution_count": 11,
     "metadata": {},
     "output_type": "execute_result"
    }
   ],
   "source": [
    "collect(partitions([1,2,3]))[2:end]"
   ]
  },
  {
   "cell_type": "markdown",
   "metadata": {},
   "source": [
    "En el caso cuántico, el MIP está definido como el ínfimo de la entropía cuántica relativa entre la matriz de densidad del sistema completo y el producto de Kronecker de alguna partición posible del sistema, es decir,\n",
    "$$\\Phi(\\rho)=inf(S(\\rho|| \\otimes^N _{i=1} Tr_{i} (\\rho )): {H}=H_1 \\otimes ... \\otimes H_N )$$\n",
    "y la entroía cuántica relativa está dada por \n",
    "$$S(\\sigma_1 || \\sigma_2 ) := Tr(\\sigma_1 \\log(\\sigma_1 ))-Tr(\\sigma_1 \\log(\\sigma_2 ))$$\n",
    "donde $\\sigma_1$ y $\\sigma_2$ son matrices de densidad. Esta definición es una extensión directa de la entropía de Kullback-Leibler."
   ]
  },
  {
   "cell_type": "code",
   "execution_count": 7,
   "metadata": {
    "collapsed": false,
    "init_cell": true
   },
   "outputs": [
    {
     "data": {
      "text/plain": [
       "quantum_relative_entropy (generic function with 2 methods)"
      ]
     },
     "execution_count": 7,
     "metadata": {},
     "output_type": "execute_result"
    }
   ],
   "source": [
    "function better_logm(matrix,epsilon=1e-14)\n",
    "    logm(matrix+eye(size(matrix)[1])*epsilon)\n",
    "end\n",
    "\n",
    "function quantum_relative_entropy(CompleteMatrix,PartitionedMatrix,epsilon=1e-14)\n",
    "    trace(CompleteMatrix*better_logm(CompleteMatrix,epsilon))-trace(CompleteMatrix*better_logm(PartitionedMatrix,epsilon))\n",
    "end"
   ]
  },
  {
   "cell_type": "code",
   "execution_count": 13,
   "metadata": {
    "collapsed": false
   },
   "outputs": [
    {
     "name": "stdout",
     "output_type": "stream",
     "text": [
      "quantum_relative_entropy(ρGHZ,ρGHZ_A_BC) = 1.386294361119858\n",
      "quantum_relative_entropy(ρGHZ,ρGHZ_A_B_C) = 2.0794415416797634\n",
      "quantum_relative_entropy(ρW,ρW_A_BC) = 1.2730283365895902\n",
      "quantum_relative_entropy(ρW,ρW_A_B_C) = 1.9095425048843817\n"
     ]
    }
   ],
   "source": [
    "@show (quantum_relative_entropy(ρGHZ,ρGHZ_A_BC));\n",
    "@show (quantum_relative_entropy(ρGHZ,ρGHZ_A_B_C));\n",
    "@show (quantum_relative_entropy(ρW,ρW_A_BC));\n",
    "@show (quantum_relative_entropy(ρW,ρW_A_B_C));"
   ]
  },
  {
   "cell_type": "markdown",
   "metadata": {
    "collapsed": false
   },
   "source": [
    "Los cálculos no parecen coincidir con el paper, pero esto es solo porque ellos usan logaritmo base dos y yo natural. Para simplificar, me quedaré usando logaritmo natural."
   ]
  },
  {
   "cell_type": "markdown",
   "metadata": {},
   "source": [
    "La función MIP encontrará la mínima entropía relativa de un sistema dado. Esto lo hará probando cada una de las particiones, obtenidas a través de la función ncpartitions, que solo arroja las particiones que están ordenadas."
   ]
  },
  {
   "cell_type": "code",
   "execution_count": 125,
   "metadata": {
    "collapsed": false,
    "init_cell": true
   },
   "outputs": [
    {
     "name": "stderr",
     "output_type": "stream",
     "text": [
      "WARNING: Method definition sequentialpartitions(Int64) in module Main at In[123]:3 overwritten at In[125]:3.\n"
     ]
    },
    {
     "data": {
      "text/plain": [
       "sequentialpartitions (generic function with 1 method)"
      ]
     },
     "execution_count": 125,
     "metadata": {},
     "output_type": "execute_result"
    }
   ],
   "source": [
    "using Combinatorics\n",
    "function sequentialpartitions(n::Int64)\n",
    "    A=ncpartitions(n)\n",
    "    M=Array{Int64}(n)\n",
    "    Z=[[0]]\n",
    "    for f in A\n",
    "        k=1\n",
    "        for i in f\n",
    "            for j in i\n",
    "                M[k]=j\n",
    "                k+=1\n",
    "            end\n",
    "        end\n",
    "        if M==collect(1:n)\n",
    "            Z=vcat(Z,[f])\n",
    "        end\n",
    "    end\n",
    "    return Z[2:end]\n",
    "end"
   ]
  },
  {
   "cell_type": "code",
   "execution_count": 129,
   "metadata": {
    "collapsed": false,
    "init_cell": true
   },
   "outputs": [
    {
     "name": "stderr",
     "output_type": "stream",
     "text": [
      "WARNING: Method definition chop_im(Any) in module Main at In[128]:2 overwritten at In[129]:2.\n",
      "WARNING: Method definition chop_im(Any, Any) in module Main at In[128]:2 overwritten at In[129]:2.\n",
      "WARNING: Method definition MIP(Any, Int64) in module Main at In[128]:9 overwritten at In[129]:9.\n",
      "WARNING: Method definition MIP(Any, Int64, Any) in module Main at In[128]:9 overwritten at In[129]:9.\n"
     ]
    },
    {
     "data": {
      "text/html": [
       "1.2730283365895902"
      ],
      "text/plain": [
       "1.2730283365895902"
      ]
     },
     "execution_count": 129,
     "metadata": {},
     "output_type": "execute_result"
    }
   ],
   "source": [
    "function chop_im(A,eps=1e-14)\n",
    "    if imag(A)<eps\n",
    "        return real(A)\n",
    "    end\n",
    "    return A\n",
    "end\n",
    "\n",
    "function MIP(density_matrix,dim::Int64,epsilon=1e-14)\n",
    "    n=Int(round(log(dim,size(density_matrix)[1])));\n",
    "    v=sequentialpartitions(n)[1:end-1]\n",
    "    Ss=zeros(length(v))\n",
    "    allparts=collect(1:n)\n",
    "    j=1\n",
    "    for parts in v\n",
    "        parts\n",
    "        temp=dTraceSystem(density_matrix, setdiff(allparts,parts[1]), dim)\n",
    "        partitioned_matrix=kron(temp,dTraceSystem(density_matrix,setdiff(allparts,parts[2]),dim))\n",
    "        for i in 3:length(parts)\n",
    "            partitioned_matrix=kron(partitioned_matrix,dTraceSystem(density_matrix,setdiff(allparts,parts[i]),dim))\n",
    "        end\n",
    "        Ss[j]=chop_im(quantum_relative_entropy(density_matrix,partitioned_matrix))\n",
    "        j+=1\n",
    "    end\n",
    "    minimum(Ss)\n",
    "end\n",
    "\n",
    "MIP(ρGHZ,2)\n",
    "MIP(ρW,2)\n"
   ]
  },
  {
   "cell_type": "markdown",
   "metadata": {},
   "source": [
    "Veremos ahora cómo se comporta el MIP en un ensamble de estados generados aleatoriamente y cómo cambia esta cantidad si variamos la dimensión del sistema (qubit, qutrit, etc) y las particiones posibles."
   ]
  },
  {
   "cell_type": "code",
   "execution_count": 9,
   "metadata": {
    "collapsed": false,
    "init_cell": true
   },
   "outputs": [
    {
     "name": "stderr",
     "output_type": "stream",
     "text": [
      "INFO: Recompiling stale cache file /home/humberto/.julia/lib/v0.5/quantum.ji for module quantum.\n"
     ]
    },
    {
     "data": {
      "text/plain": [
       "ensemble_mip (generic function with 1 method)"
      ]
     },
     "execution_count": 9,
     "metadata": {},
     "output_type": "execute_result"
    }
   ],
   "source": [
    "push!(LOAD_PATH, \"/home/humberto/9no/compu/Proyecto\")\n",
    "using quantum\n",
    "\n",
    "function ensemble_mip(states_number::Int64,dim::Int64,partitions::Int64)\n",
    "    n=dim^partitions\n",
    "    M=Array{Float64}(states_number)\n",
    "    for i in 1:states_number\n",
    "        M[i]=MIP(projector(random_state(n)),dim)\n",
    "    end\n",
    "    return M\n",
    "end\n",
    "        \n",
    "    "
   ]
  },
  {
   "cell_type": "code",
   "execution_count": 130,
   "metadata": {
    "collapsed": false
   },
   "outputs": [
    {
     "ename": "LoadError",
     "evalue": "InterruptException:",
     "output_type": "error",
     "traceback": [
      "InterruptException:",
      "",
      " in #parse#310(::Bool, ::Bool, ::Function, ::SubString{String}, ::Int64) at ./parse.jl:180",
      " in (::Base.#kw##parse)(::Array{Any,1}, ::Base.#parse, ::SubString{String}, ::Int64) at ./<missing>:0",
      " in #parse#311(::Bool, ::Function, ::SubString{String}) at ./parse.jl:194",
      " in collect_to!(::Array{Int64,1}, ::Base.Generator{Array{SubString{String},1},Base.#parse}, ::Int64, ::Int64) at ./array.jl:340",
      " in _collect(::Array{SubString{String},1}, ::Base.Generator{Array{SubString{String},1},Base.#parse}, ::Base.EltypeUnknown, ::Base.HasShape) at ./array.jl:321",
      " in dTraceSystem(::Array{Complex{Float64},2}, ::Array{Int64,1}, ::Int64) at ./In[4]:96",
      " in MIP(::Array{Complex{Float64},2}, ::Int64, ::Float64) at ./In[8]:16",
      " in ensemble_mip(::Int64, ::Int64, ::Int64) at ./In[9]:8"
     ]
    }
   ],
   "source": [
    "ensemble_mip(5,2,6)"
   ]
  },
  {
   "cell_type": "code",
   "execution_count": 29,
   "metadata": {
    "collapsed": false,
    "init_cell": true
   },
   "outputs": [
    {
     "name": "stderr",
     "output_type": "stream",
     "text": [
      "WARNING: Method definition ensemble_statistics(Int64, Base.UnitRange{Int64}, Base.UnitRange{Int64}) in module Main at In[21]:2 overwritten at In[29]:2.\n"
     ]
    },
    {
     "data": {
      "text/plain": [
       "ensemble_statistics (generic function with 1 method)"
      ]
     },
     "execution_count": 29,
     "metadata": {},
     "output_type": "execute_result"
    }
   ],
   "source": [
    "function ensemble_statistics(states_number::Int64,dim_range::UnitRange{Int64},partition_range::UnitRange{Int64})\n",
    "    ensembles=Array{Float64}(length(dim_range)*length(partition_range),states_number)\n",
    "    k=1;\n",
    "    for i in dim_range\n",
    "        for j in partition_range\n",
    "            ensembles[k,:]=ensemble_mip(states_number,i,j)\n",
    "            k+=1\n",
    "        end\n",
    "    end\n",
    "    return ensembles\n",
    "end"
   ]
  }
 ],
 "metadata": {
  "anaconda-cloud": {},
  "celltoolbar": "Initialisation Cell",
  "hide_input": false,
  "kernelspec": {
   "display_name": "Julia 0.5.0",
   "language": "julia",
   "name": "julia-0.5"
  },
  "language_info": {
   "file_extension": ".jl",
   "mimetype": "application/julia",
   "name": "julia",
   "version": "0.5.0"
  },
  "latex_envs": {
   "LaTeX_envs_menu_present": true,
   "bibliofile": "biblio.bib",
   "cite_by": "apalike",
   "current_citInitial": 1,
   "eqLabelWithNumbers": true,
   "eqNumInitial": 1,
   "labels_anchors": false,
   "latex_user_defs": false,
   "report_style_numbering": false,
   "user_envs_cfg": false
  },
  "toc": {
   "colors": {
    "hover_highlight": "#DAA520",
    "running_highlight": "#FF0000",
    "selected_highlight": "#FFD700"
   },
   "moveMenuLeft": true,
   "nav_menu": {
    "height": "68px",
    "width": "252px"
   },
   "navigate_menu": true,
   "number_sections": true,
   "sideBar": true,
   "threshold": 4,
   "toc_cell": false,
   "toc_section_display": "block",
   "toc_window_display": false
  }
 },
 "nbformat": 4,
 "nbformat_minor": 1
}
