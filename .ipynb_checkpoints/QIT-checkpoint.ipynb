{
 "cells": [
  {
   "cell_type": "markdown",
   "metadata": {},
   "source": [
    "# Quantum Integrated Information (QII)"
   ]
  },
  {
   "cell_type": "markdown",
   "metadata": {},
   "source": [
    "Seguiremos el paper \"Integrated Information-induced quantum collapse\". Primero, necesitaremos una función que pase de estados tipo $|01\\rangle$ a vectores en la base computacional."
   ]
  },
  {
   "cell_type": "code",
   "execution_count": 1,
   "metadata": {
    "collapsed": false
   },
   "outputs": [
    {
     "data": {
      "text/plain": [
       "quantum_to_vec"
      ]
     },
     "execution_count": 1,
     "metadata": {},
     "output_type": "execute_result"
    }
   ],
   "source": [
    "\"\"\"\n",
    "El input es un vector en la notación ket y el output un vector en la base computacional.\n",
    "\"\"\"\n",
    "function quantum_to_vec(quantum_state::Array{Int64,1})\n",
    "    n=2^length(quantum_state)\n",
    "    vec=zeros(Int64,n)\n",
    "    pos=parse(Int64,join(quantum_state),2)+1\n",
    "    vec[pos]=1\n",
    "    vec\n",
    "end"
   ]
  },
  {
   "cell_type": "markdown",
   "metadata": {},
   "source": [
    "Verifiquemos lo anterior obteniendo la matriz de densidad de un estado puro, en este caso el Greenberger–Horne–Zeilinger (GHZ).\n",
    "Recordemos que para un estado puro $\\rho=|\\psi\\rangle \\langle \\psi |$"
   ]
  },
  {
   "cell_type": "code",
   "execution_count": 2,
   "metadata": {
    "collapsed": false
   },
   "outputs": [
    {
     "data": {
      "text/plain": [
       "8×8 Array{Float64,2}:\n",
       " 0.5  0.0  0.0  0.0  0.0  0.0  0.0  0.5\n",
       " 0.0  0.0  0.0  0.0  0.0  0.0  0.0  0.0\n",
       " 0.0  0.0  0.0  0.0  0.0  0.0  0.0  0.0\n",
       " 0.0  0.0  0.0  0.0  0.0  0.0  0.0  0.0\n",
       " 0.0  0.0  0.0  0.0  0.0  0.0  0.0  0.0\n",
       " 0.0  0.0  0.0  0.0  0.0  0.0  0.0  0.0\n",
       " 0.0  0.0  0.0  0.0  0.0  0.0  0.0  0.0\n",
       " 0.5  0.0  0.0  0.0  0.0  0.0  0.0  0.5"
      ]
     },
     "execution_count": 2,
     "metadata": {},
     "output_type": "execute_result"
    }
   ],
   "source": [
    "psi_GHZ=(quantum_to_vec([0,0,0])+quantum_to_vec([1,1,1]))/sqrt(2);\n",
    "ρGHZ=psi_GHZ*psi_GHZ'"
   ]
  },
  {
   "cell_type": "markdown",
   "metadata": {
    "collapsed": true
   },
   "source": [
    "## Traza parcial\n",
    "Hagamos ahora una función de la traza parcial generalizada para cualquier dimensión de sistemas sea cual sea la partición.Para esto traduzco el código \n",
    "http://library.wolfram.com/infocenter/MathSource/8763/#downloads\n",
    "de mathematica language a julia.\n",
    "Primero, necesito hacer una función que, dado un arreglo y dos posiciones de este, intercambie las partes.\n",
    "\n",
    "Notemos que la función dTraceSystemSymb se usa cuando la matriz de densidad es un arreglo de strings, mientras que dTraceSystem es para cuando el la matriz de densidad es un arreglo numérico. La notación es como sigue:\n",
    "\n",
    "Si $\\rho_{ABC}$ es el sistema general, entonces, por ejemplo, $\\rho_{B}=Tr_{AC}\\rho_{ABC}=dTraceSystem(\\rho_{ABC},[1,3],dim)$, donde dim=2 si se trata de qubits, dim=3 si son qutrits, dim=d si son qudits.\n"
   ]
  },
  {
   "cell_type": "code",
   "execution_count": 9,
   "metadata": {
    "collapsed": false
   },
   "outputs": [
    {
     "name": "stderr",
     "output_type": "stream",
     "text": [
      "WARNING: Method definition SwapParts(Any, Int64, Int64) in module Main at In[3]:2 overwritten at In[9]:2.\n",
      "WARNING: Method definition IntegerDigits(Any, Any, Any) in module Main at In[3]:7 overwritten at In[9]:7.\n",
      "WARNING: Method definition FromDigits(Any, Any) in module Main at In[3]:11 overwritten at In[9]:11.\n",
      "WARNING: Method definition ++(Array{String, 1}, Array{String, 1}) in module Main at In[3]:15 overwritten at In[9]:15.\n"
     ]
    },
    {
     "data": {
      "text/plain": [
       "++ (generic function with 1 method)"
      ]
     },
     "execution_count": 9,
     "metadata": {},
     "output_type": "execute_result"
    }
   ],
   "source": [
    "function SwapParts(expr,pos1::Int64,pos2::Int64)\n",
    "    expr[pos1], expr[pos2]=expr[pos2], expr[pos1]\n",
    "    expr\n",
    "end\n",
    "\n",
    "function IntegerDigits(n,b,len)\n",
    "    map(parse,split(base(b,n,len),\"\"))\n",
    "end\n",
    "\n",
    "function FromDigits(list,base)\n",
    "    parse(Int64,join(list),base)\n",
    "end\n",
    "\n",
    "function ++(a::Array{String,1},b::Array{String,1})\n",
    "    c=Array{String}(length(a))\n",
    "    for i in 1:length(a)\n",
    "        char1=a[i]\n",
    "        char2=b[i]\n",
    "        c[i]=\"$char1 + $char2\"\n",
    "    end\n",
    "    c\n",
    "end\n",
    "    "
   ]
  },
  {
   "cell_type": "code",
   "execution_count": 10,
   "metadata": {
    "collapsed": false
   },
   "outputs": [
    {
     "name": "stderr",
     "output_type": "stream",
     "text": [
      "WARNING: Method definition dTraceSystemSymb(Array{String, 2}, Any, Any) in module Main at In[4]:2 overwritten at In[10]:2.\n",
      "WARNING: Method definition dTraceSystem(Any, Any, Any) in module Main at In[4]:65 overwritten at In[10]:65.\n"
     ]
    },
    {
     "data": {
      "text/plain": [
       "dTraceSystem (generic function with 1 method)"
      ]
     },
     "execution_count": 10,
     "metadata": {},
     "output_type": "execute_result"
    }
   ],
   "source": [
    "function dTraceSystemSymb(D::Array{String,2}, s, dim)\n",
    "    Qudits=reverse(sort(s));\n",
    "    TrkM=D;\n",
    "    z=length(Qudits)+1;\n",
    "    q=1;\n",
    "    while q<z\n",
    "        n=Int(log(dim,size(TrkM)[1]));\n",
    "        M=deepcopy(TrkM);\n",
    "        k=Qudits[q]\n",
    "        if k==n\n",
    "            TrkM=[];\n",
    "            p=1;\n",
    "            C=[]\n",
    "            while p<(dim^n)+1\n",
    "                C=M[p,:][1:dim:dim^n]\n",
    "                for h in 1:dim-1\n",
    "                    C=C++M[p+h,:][1+h:dim:dim^n]\n",
    "                    if p==1\n",
    "                        append!(TrkM,C)\n",
    "                    else\n",
    "                        TrkM=hcat(TrkM,C)\n",
    "                    end\n",
    "                end\n",
    "                p+=dim\n",
    "            end\n",
    "            TrkM=permutedims(TrkM,[2,1])\n",
    "        else\n",
    "            j=0\n",
    "            while j<n-k\n",
    "                b=[0];\n",
    "                i=1\n",
    "                while i<(dim^n)+1\n",
    "                    if IntegerDigits(i-1,dim,n)[n]!=IntegerDigits(i-1,dim,n)[n-j-1] && count(k->(k==i),b)==0\n",
    "                        b=append!(b,FromDigits(SwapParts((IntegerDigits(i-1,dim,n)),n,n-j-1),dim)+1)\n",
    "                        c=collect(1:1:dim^n)\n",
    "                        perm=SwapParts(c,i,FromDigits(SwapParts(IntegerDigits(i-1,dim,n),n,n-j-1),dim)+1)\n",
    "                        M=M[perm,perm]\n",
    "                    end\n",
    "                    i+=1\n",
    "                end\n",
    "                j+=1\n",
    "            end\n",
    "            TrkM=[];\n",
    "            p=1\n",
    "            while p<(dim^n)+1\n",
    "                C=M[p,:][1:dim:dim^n]\n",
    "                for h in 1:dim-1\n",
    "                    C=C++M[p+h,:][1+h:dim:dim^n]\n",
    "                    if p==1\n",
    "                        append!(TrkM,C)\n",
    "                    else\n",
    "                        TrkM=hcat(TrkM,C)\n",
    "                    end\n",
    "                end\n",
    "                p+=dim\n",
    "            end\n",
    "            TrkM=permutedims(TrkM,[2,1])\n",
    "        end\n",
    "        q+=1\n",
    "    end\n",
    "    return TrkM\n",
    "end\n",
    "\n",
    "function dTraceSystem(D, s, dim)\n",
    "    Qudits=reverse(sort(s));\n",
    "    TrkM=D;\n",
    "    z=length(Qudits)+1;\n",
    "    q=1;\n",
    "    while q<z\n",
    "        n=Int(log(dim,size(TrkM)[1]));\n",
    "        M=deepcopy(TrkM);\n",
    "        k=Qudits[q]\n",
    "        if k==n\n",
    "            TrkM=[];\n",
    "            p=1;\n",
    "            C=[]\n",
    "            while p<(dim^n)+1\n",
    "                C=M[p,:][1:dim:dim^n]\n",
    "                for h in 1:dim-1\n",
    "                    C=C+M[p+h,:][1+h:dim:dim^n]\n",
    "                    if p==1\n",
    "                        append!(TrkM,C)\n",
    "                    else\n",
    "                        TrkM=hcat(TrkM,C)\n",
    "                    end\n",
    "                end\n",
    "                p+=dim\n",
    "            end\n",
    "            TrkM=permutedims(TrkM,[2,1])\n",
    "        else\n",
    "            j=0\n",
    "            while j<n-k\n",
    "                b=[0];\n",
    "                i=1\n",
    "                while i<(dim^n)+1\n",
    "                    if IntegerDigits(i-1,dim,n)[n]!=IntegerDigits(i-1,dim,n)[n-j-1] && count(k->(k==i),b)==0\n",
    "                        b=append!(b,FromDigits(SwapParts((IntegerDigits(i-1,dim,n)),n,n-j-1),dim)+1)\n",
    "                        c=collect(1:1:dim^n)\n",
    "                        perm=SwapParts(c,i,FromDigits(SwapParts(IntegerDigits(i-1,dim,n),n,n-j-1),dim)+1)\n",
    "                        M=M[perm,perm]\n",
    "                    end\n",
    "                    i+=1\n",
    "                end\n",
    "                j+=1\n",
    "            end\n",
    "            TrkM=[];\n",
    "            p=1\n",
    "            while p<(dim^n)+1\n",
    "                C=M[p,:][1:dim:dim^n]\n",
    "                for h in 1:dim-1\n",
    "                    C=C+M[p+h,:][1+h:dim:dim^n]\n",
    "                    if p==1\n",
    "                        append!(TrkM,C)\n",
    "                    else\n",
    "                        TrkM=hcat(TrkM,C)\n",
    "                    end\n",
    "                end\n",
    "                p+=dim\n",
    "            end\n",
    "            TrkM=permutedims(TrkM,[2,1])\n",
    "        end\n",
    "        q+=1\n",
    "    end\n",
    "    return convert(Array{Float64,2},TrkM)\n",
    "end"
   ]
  },
  {
   "cell_type": "markdown",
   "metadata": {
    "collapsed": true
   },
   "source": [
    "Trato ahora de comprobar esta función de distintas maneras.|"
   ]
  },
  {
   "cell_type": "code",
   "execution_count": 6,
   "metadata": {
    "collapsed": false
   },
   "outputs": [
    {
     "ename": "LoadError",
     "evalue": "LoadError: MethodError: no method matching ++(::Array{Any,1}, ::Array{Any,1})\nwhile loading In[6], in expression starting on line 5",
     "output_type": "error",
     "traceback": [
      "LoadError: MethodError: no method matching ++(::Array{Any,1}, ::Array{Any,1})\nwhile loading In[6], in expression starting on line 5",
      "",
      " in dTraceSystemSymb(::Array{String,2}, ::Array{Int64,1}, ::Int64) at ./In[4]:48"
     ]
    }
   ],
   "source": [
    "ρa=[\"a11\" \"a12\"; \"a21\" \"a22\"]\n",
    "ρb=[\"b11\" \"b12\"; \"b21\" \"b22\"]\n",
    "ρc=[\"c11\" \"c12\"; \"c21\" \"c22\"]\n",
    "ρabc=kron(kron(ρa,ρb),ρc)\n",
    "dTraceSystemSymb(ρabc,[1,3],2)"
   ]
  },
  {
   "cell_type": "markdown",
   "metadata": {},
   "source": [
    "Veamos si los resultados obtenidos corresponden a los presentados en Integrated Information-induced quantum collapse. Exploremos primero el estado GHZ."
   ]
  },
  {
   "cell_type": "code",
   "execution_count": 11,
   "metadata": {
    "collapsed": false
   },
   "outputs": [
    {
     "data": {
      "text/plain": [
       "8×8 Array{Float64,2}:\n",
       " 0.125  0.0    0.0    0.0    0.0    0.0    0.0    0.0  \n",
       " 0.0    0.125  0.0    0.0    0.0    0.0    0.0    0.0  \n",
       " 0.0    0.0    0.125  0.0    0.0    0.0    0.0    0.0  \n",
       " 0.0    0.0    0.0    0.125  0.0    0.0    0.0    0.0  \n",
       " 0.0    0.0    0.0    0.0    0.125  0.0    0.0    0.0  \n",
       " 0.0    0.0    0.0    0.0    0.0    0.125  0.0    0.0  \n",
       " 0.0    0.0    0.0    0.0    0.0    0.0    0.125  0.0  \n",
       " 0.0    0.0    0.0    0.0    0.0    0.0    0.0    0.125"
      ]
     },
     "execution_count": 11,
     "metadata": {},
     "output_type": "execute_result"
    }
   ],
   "source": [
    "ρGHZ_A=dTraceSystem(ρGHZ,[2,3],2)\n",
    "ρGHZ_B=dTraceSystem(ρGHZ,[1,3],2)\n",
    "ρGHZ_C=dTraceSystem(ρGHZ,[1,2],2)\n",
    "kron(kron(ρGHZ_A,ρGHZ_B),ρGHZ_C)"
   ]
  },
  {
   "cell_type": "code",
   "execution_count": 12,
   "metadata": {
    "collapsed": false
   },
   "outputs": [
    {
     "data": {
      "text/plain": [
       "8×8 Array{Float64,2}:\n",
       " 0.25  0.0  0.0  0.0   0.0   0.0  0.0  0.0 \n",
       " 0.0   0.0  0.0  0.0   0.0   0.0  0.0  0.0 \n",
       " 0.0   0.0  0.0  0.0   0.0   0.0  0.0  0.0 \n",
       " 0.0   0.0  0.0  0.25  0.0   0.0  0.0  0.0 \n",
       " 0.0   0.0  0.0  0.0   0.25  0.0  0.0  0.0 \n",
       " 0.0   0.0  0.0  0.0   0.0   0.0  0.0  0.0 \n",
       " 0.0   0.0  0.0  0.0   0.0   0.0  0.0  0.0 \n",
       " 0.0   0.0  0.0  0.0   0.0   0.0  0.0  0.25"
      ]
     },
     "execution_count": 12,
     "metadata": {},
     "output_type": "execute_result"
    }
   ],
   "source": [
    "ρGHZ_A=dTraceSystem(ρGHZ,[2,3],2)\n",
    "ρGHZ_BC=dTraceSystem(ρGHZ,[1],2)\n",
    "A=kron(ρGHZ_A,ρGHZ_BC)"
   ]
  },
  {
   "cell_type": "code",
   "execution_count": 17,
   "metadata": {
    "collapsed": false
   },
   "outputs": [
    {
     "data": {
      "text/plain": [
       "8×8 Array{Float64,2}:\n",
       " 0.5  0.0  0.0  0.0  0.0  0.0  0.0  0.5\n",
       " 0.0  0.0  0.0  0.0  0.0  0.0  0.0  0.0\n",
       " 0.0  0.0  0.0  0.0  0.0  0.0  0.0  0.0\n",
       " 0.0  0.0  0.0  0.0  0.0  0.0  0.0  0.0\n",
       " 0.0  0.0  0.0  0.0  0.0  0.0  0.0  0.0\n",
       " 0.0  0.0  0.0  0.0  0.0  0.0  0.0  0.0\n",
       " 0.0  0.0  0.0  0.0  0.0  0.0  0.0  0.0\n",
       " 0.5  0.0  0.0  0.0  0.0  0.0  0.0  0.5"
      ]
     },
     "execution_count": 17,
     "metadata": {},
     "output_type": "execute_result"
    }
   ],
   "source": [
    "ρGHZ"
   ]
  },
  {
   "cell_type": "code",
   "execution_count": 16,
   "metadata": {
    "collapsed": false
   },
   "outputs": [
    {
     "data": {
      "text/plain": [
       "8×8 Array{Complex{Float64},2}:\n",
       " NaN+0.0im  NaN+0.0im  NaN+0.0im  …  NaN+0.0im  NaN+0.0im  NaN+0.0im\n",
       " NaN+0.0im  NaN+0.0im  NaN+0.0im     NaN+0.0im  NaN+0.0im  NaN+0.0im\n",
       " NaN+0.0im  NaN+0.0im  NaN+0.0im     NaN+0.0im  NaN+0.0im  NaN+0.0im\n",
       " NaN+0.0im  NaN+0.0im  NaN+0.0im     NaN+0.0im  NaN+0.0im  NaN+0.0im\n",
       " NaN+0.0im  NaN+0.0im  NaN+0.0im     NaN+0.0im  NaN+0.0im  NaN+0.0im\n",
       " NaN+0.0im  NaN+0.0im  NaN+0.0im  …  NaN+0.0im  NaN+0.0im  NaN+0.0im\n",
       " NaN+0.0im  NaN+0.0im  NaN+0.0im     NaN+0.0im  NaN+0.0im  NaN+0.0im\n",
       " NaN+0.0im  NaN+0.0im  NaN+0.0im     NaN+0.0im  NaN+0.0im  NaN+0.0im"
      ]
     },
     "execution_count": 16,
     "metadata": {},
     "output_type": "execute_result"
    }
   ],
   "source": [
    "logm(A)"
   ]
  },
  {
   "cell_type": "markdown",
   "metadata": {},
   "source": [
    "Veamos ahora qué pasa con el estado W."
   ]
  },
  {
   "cell_type": "code",
   "execution_count": 13,
   "metadata": {
    "collapsed": false
   },
   "outputs": [
    {
     "data": {
      "text/plain": [
       "8×8 Array{Float64,2}:\n",
       " 8.0  0.0  0.0  0.0  0.0  0.0  0.0  0.0\n",
       " 0.0  4.0  0.0  0.0  0.0  0.0  0.0  0.0\n",
       " 0.0  0.0  4.0  0.0  0.0  0.0  0.0  0.0\n",
       " 0.0  0.0  0.0  2.0  0.0  0.0  0.0  0.0\n",
       " 0.0  0.0  0.0  0.0  4.0  0.0  0.0  0.0\n",
       " 0.0  0.0  0.0  0.0  0.0  2.0  0.0  0.0\n",
       " 0.0  0.0  0.0  0.0  0.0  0.0  2.0  0.0\n",
       " 0.0  0.0  0.0  0.0  0.0  0.0  0.0  1.0"
      ]
     },
     "execution_count": 13,
     "metadata": {},
     "output_type": "execute_result"
    }
   ],
   "source": [
    "psi_W=(quantum_to_vec([0,0,1])+quantum_to_vec([0,1,0])+quantum_to_vec([1,0,0]))/sqrt(3);\n",
    "ρW=psi_W*psi_W';\n",
    "ρW_A=dTraceSystem(ρW,[2,3],2)\n",
    "ρW_B=dTraceSystem(ρW,[1,3],2)\n",
    "ρW_C=dTraceSystem(ρW,[1,2],2)\n",
    "27*kron(kron(ρW_A,ρW_B),ρW_C)"
   ]
  },
  {
   "cell_type": "code",
   "execution_count": 14,
   "metadata": {
    "collapsed": false
   },
   "outputs": [
    {
     "data": {
      "text/plain": [
       "8×8 Array{Float64,2}:\n",
       " 2.0  0.0  0.0  0.0  0.0  0.0  0.0  0.0\n",
       " 0.0  2.0  2.0  0.0  0.0  0.0  0.0  0.0\n",
       " 0.0  2.0  2.0  0.0  0.0  0.0  0.0  0.0\n",
       " 0.0  0.0  0.0  0.0  0.0  0.0  0.0  0.0\n",
       " 0.0  0.0  0.0  0.0  1.0  0.0  0.0  0.0\n",
       " 0.0  0.0  0.0  0.0  0.0  1.0  1.0  0.0\n",
       " 0.0  0.0  0.0  0.0  0.0  1.0  1.0  0.0\n",
       " 0.0  0.0  0.0  0.0  0.0  0.0  0.0  0.0"
      ]
     },
     "execution_count": 14,
     "metadata": {},
     "output_type": "execute_result"
    }
   ],
   "source": [
    "ρW_A=dTraceSystem(ρW,[2,3],2)\n",
    "ρW_BC=dTraceSystem(ρW,[1],2)\n",
    "9*kron(ρW_A,ρW_BC)"
   ]
  },
  {
   "cell_type": "markdown",
   "metadata": {},
   "source": [
    "Vemos que todo concuerda con el paper."
   ]
  },
  {
   "cell_type": "markdown",
   "metadata": {},
   "source": [
    "## Combinatoria y cálculo de MIP\n",
    "En este apartado se genran todas las particiones posibles de un sistema"
   ]
  },
  {
   "cell_type": "code",
   "execution_count": 121,
   "metadata": {
    "collapsed": false
   },
   "outputs": [
    {
     "name": "stderr",
     "output_type": "stream",
     "text": [
      "INFO: Recompiling stale cache file /home/humberto/.julia/lib/v0.5/Polynomials.ji for module Polynomials.\n"
     ]
    }
   ],
   "source": [
    "using Combinatorics"
   ]
  },
  {
   "cell_type": "code",
   "execution_count": 142,
   "metadata": {
    "collapsed": false
   },
   "outputs": [
    {
     "data": {
      "text/plain": [
       "4-element Array{Any,1}:\n",
       " Array{Int64,1}[[1,2],[3]]  \n",
       " Array{Int64,1}[[1,3],[2]]  \n",
       " Array{Int64,1}[[1],[2,3]]  \n",
       " Array{Int64,1}[[1],[2],[3]]"
      ]
     },
     "execution_count": 142,
     "metadata": {},
     "output_type": "execute_result"
    }
   ],
   "source": [
    "collect(partitions([1,2,3]))[2:end]"
   ]
  },
  {
   "cell_type": "markdown",
   "metadata": {},
   "source": [
    "En el caso cuántico, el MIP está definido como el ínfimo de la entropía cuántica relativa entre la matriz de densidad del sistema completo y el producto de Kronecker de alguna partición posible del sistema, es decir,\n",
    "$$\\Phi(\\rho)=inf(S(\\rho|| \\otimes^N _{i=1} Tr_{i} (\\rho )): {H}=H_1 \\otimes ... \\otimes H_N )$$\n",
    "y la entroía cuántica relativa está dada por \n",
    "$$S(\\sigma_1 || \\sigma_2 ) := Tr(\\sigma_1 \\log(\\sigma_1 ))-Tr(\\sigma_1 \\log(\\sigma_2 ))$$\n",
    "donde $\\sigma_1$ y $\\sigma_2$ son matrices de densidad. Esta definición es una extensión directa de la entropía de Kullback-Leibler.\n",
    "\n",
    "Para calcular el logaritmo de una matriz, utilicemos el algoritmo de la wikipedia https://en.wikipedia.org/wiki/Logarithm_of_a_matrix: $\\log A = V(\\log A') V^{-1}$"
   ]
  },
  {
   "cell_type": "code",
   "execution_count": 289,
   "metadata": {
    "collapsed": false
   },
   "outputs": [
    {
     "name": "stderr",
     "output_type": "stream",
     "text": [
      "WARNING: Method definition chopnumber(Float64) in module Main at In[280]:2 overwritten at In[289]:2.\n",
      "WARNING: Method definition chopnumber(Float64, Any) in module Main at In[280]:2 overwritten at In[289]:2.\n",
      "WARNING: Method definition chopnumber(Array{Float64, 2}) in module Main at In[280]:10 overwritten at In[289]:10.\n",
      "WARNING: Method definition chopnumber(Array{Float64, 2}, Any) in module Main at In[280]:10 overwritten at In[289]:10.\n",
      "WARNING: Method definition notinf(Float64) in module Main at In[280]:18 overwritten at In[289]:18.\n",
      "WARNING: Method definition notinf(Float64, Any) in module Main at In[280]:18 overwritten at In[289]:18.\n",
      "WARNING: Method definition notinf(Array{Float64, 2}) in module Main at In[280]:26 overwritten at In[289]:26.\n",
      "WARNING: Method definition notinf(Array{Float64, 2}, Any) in module Main at In[280]:26 overwritten at In[289]:26.\n",
      "WARNING: Method definition NaNtozero(Array{Base.Complex{Float64}, 2}) in module Main at In[280]:34 overwritten at In[289]:34.\n"
     ]
    },
    {
     "data": {
      "text/plain": [
       "NaNtozero (generic function with 2 methods)"
      ]
     },
     "execution_count": 289,
     "metadata": {},
     "output_type": "execute_result"
    }
   ],
   "source": [
    "function chopnumber(x::Float64, epsilon=10e-15)   \n",
    "    if abs(x) < epsilon\n",
    "        return Float64(0)\n",
    "    else\n",
    "        return x\n",
    "    end\n",
    "end\n",
    "\n",
    "function chopnumber(y::Array{Float64,2}, epsilon=10e-15) \n",
    "    x=copy(y)\n",
    "    for i=1:length(x)\n",
    "        x[i]=chopnumber(x[i],epsilon)\n",
    "    end\n",
    "    return x\n",
    "end\n",
    "\n",
    "function notinf(x::Float64,sust=10e15)   \n",
    "    if abs(x) == Inf\n",
    "        return sign(x)*sust\n",
    "    else\n",
    "        return x\n",
    "    end\n",
    "end\n",
    "\n",
    "function notinf(y::Array{Float64,2},sust=10e15) \n",
    "    x=copy(y)\n",
    "    for i=1:length(x)\n",
    "        x[i]=notinf(x[i],sust)\n",
    "    end\n",
    "    return x\n",
    "end\n",
    "\n",
    "function NaNtozero(y::Array{Complex{Float64},2}) \n",
    "    x=copy(y)\n",
    "    for i=1:length(x)\n",
    "        if isequal(NaN,abs(x[i]))\n",
    "            x[i]=0\n",
    "        end\n",
    "    end\n",
    "    return x\n",
    "end"
   ]
  },
  {
   "cell_type": "code",
   "execution_count": 208,
   "metadata": {
    "collapsed": false
   },
   "outputs": [
    {
     "name": "stderr",
     "output_type": "stream",
     "text": [
      "WARNING: Method definition quantum_relative_entropy(Any, Any) in module Main at In[206]:2 overwritten at In[208]:2.\n"
     ]
    },
    {
     "data": {
      "text/plain": [
       "quantum_relative_entropy (generic function with 1 method)"
      ]
     },
     "execution_count": 208,
     "metadata": {},
     "output_type": "execute_result"
    }
   ],
   "source": [
    "function quantum_relative_entropy(A,B)\n",
    "    trace(A*Mlog(A))-trace(A*Mlog(B))\n",
    "end"
   ]
  },
  {
   "cell_type": "code",
   "execution_count": 290,
   "metadata": {
    "collapsed": false
   },
   "outputs": [
    {
     "data": {
      "text/plain": [
       "8×8 Array{Complex{Float64},2}:\n",
       " 0.0+0.0im  0.0+0.0im  0.0+0.0im  …  0.0+0.0im  0.0+0.0im  0.0+0.0im\n",
       " 0.0+0.0im  0.0+0.0im  0.0+0.0im     0.0+0.0im  0.0+0.0im  0.0+0.0im\n",
       " 0.0+0.0im  0.0+0.0im  0.0+0.0im     0.0+0.0im  0.0+0.0im  0.0+0.0im\n",
       " 0.0+0.0im  0.0+0.0im  0.0+0.0im     0.0+0.0im  0.0+0.0im  0.0+0.0im\n",
       " 0.0+0.0im  0.0+0.0im  0.0+0.0im     0.0+0.0im  0.0+0.0im  0.0+0.0im\n",
       " 0.0+0.0im  0.0+0.0im  0.0+0.0im  …  0.0+0.0im  0.0+0.0im  0.0+0.0im\n",
       " 0.0+0.0im  0.0+0.0im  0.0+0.0im     0.0+0.0im  0.0+0.0im  0.0+0.0im\n",
       " 0.0+0.0im  0.0+0.0im  0.0+0.0im     0.0+0.0im  0.0+0.0im  0.0+0.0im"
      ]
     },
     "execution_count": 290,
     "metadata": {},
     "output_type": "execute_result"
    }
   ],
   "source": [
    "NaNtozero(logm(A))"
   ]
  }
 ],
 "metadata": {
  "anaconda-cloud": {},
  "kernelspec": {
   "display_name": "Julia 0.5.0",
   "language": "julia",
   "name": "julia-0.5"
  },
  "language_info": {
   "file_extension": ".jl",
   "mimetype": "application/julia",
   "name": "julia",
   "version": "0.5.0"
  }
 },
 "nbformat": 4,
 "nbformat_minor": 1
}
